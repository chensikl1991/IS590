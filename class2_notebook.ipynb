{
 "cells": [
  {
   "cell_type": "markdown",
   "metadata": {
    "collapsed": true
   },
   "source": [
    "# Class 2 Lecture/Demo Examples"
   ]
  },
  {
   "cell_type": "markdown",
   "metadata": {},
   "source": [
    "### Primary new topics include lists, tuples, dictionaries, intro file I/O. More on debugging & exception handling"
   ]
  },
  {
   "cell_type": "markdown",
   "metadata": {},
   "source": [
    "## Lists\n",
    "Lists are MUTABLE.  So we CAN change or assign to one or more items within an existing list.\n",
    "Lists can contain ANY mixture of data types, including other lists.  In other words, each ITEM in a list can be any data type, nested with no limits other than memory. So they are extremely flexible."
   ]
  },
  {
   "cell_type": "code",
   "execution_count": 1,
   "metadata": {},
   "outputs": [
    {
     "name": "stdout",
     "output_type": "stream",
     "text": [
      "['apple', 'orange', 'banananana']\n",
      "['apple', 'orange', 'banana']\n"
     ]
    }
   ],
   "source": [
    "fruit = ['apple', 'orange', 'banananana']\n",
    "print(fruit)\n",
    "fruit[2] = 'banana'  # correct the spelling of item #2\n",
    "print(fruit)"
   ]
  },
  {
   "cell_type": "code",
   "execution_count": 2,
   "metadata": {},
   "outputs": [
    {
     "name": "stdout",
     "output_type": "stream",
     "text": [
      "['apple', 'orange', 'banana', 'tomato']\n"
     ]
    }
   ],
   "source": [
    "fruit.append('tomato')  # this is how to add an item to the end of a list.\n",
    "print(fruit)"
   ]
  },
  {
   "cell_type": "code",
   "execution_count": 3,
   "metadata": {},
   "outputs": [
    {
     "ename": "TypeError",
     "evalue": "append() takes exactly one argument (3 given)",
     "traceback": [
      "\u001b[0;31m---------------------------------------------------------------------------\u001b[0m",
      "\u001b[0;31mTypeError\u001b[0m                                 Traceback (most recent call last)",
      "\u001b[0;32m<ipython-input-3-14cb3063810e>\u001b[0m in \u001b[0;36m<module>\u001b[0;34m()\u001b[0m\n\u001b[0;32m----> 1\u001b[0;31m \u001b[0mfruit\u001b[0m\u001b[0;34m.\u001b[0m\u001b[0mappend\u001b[0m\u001b[0;34m(\u001b[0m\u001b[0;34m'starfruit'\u001b[0m\u001b[0;34m,\u001b[0m \u001b[0;34m'tangerine'\u001b[0m\u001b[0;34m,\u001b[0m \u001b[0;34m'kiwi'\u001b[0m\u001b[0;34m)\u001b[0m  \u001b[0;31m# But this is invalid.\u001b[0m\u001b[0;34m\u001b[0m\u001b[0m\n\u001b[0m",
      "\u001b[0;31mTypeError\u001b[0m: append() takes exactly one argument (3 given)"
     ],
     "output_type": "error"
    }
   ],
   "source": [
    "fruit.append('starfruit', 'tangerine', 'kiwi')  # But this is invalid."
   ]
  },
  {
   "cell_type": "markdown",
   "metadata": {},
   "source": [
    "Instead, to add multiple items to a list at once, just concatenate 2 lists:"
   ]
  },
  {
   "cell_type": "code",
   "execution_count": 8,
   "metadata": {},
   "outputs": [
    {
     "data": {
      "text/plain": [
       "['apple', 'orange', 'banana', 'tomato', 'starfruit', 'tangerine', 'kiwi']"
      ]
     },
     "execution_count": 8,
     "metadata": {},
     "output_type": "execute_result"
    }
   ],
   "source": [
    "fruit += ['starfruit', 'tangerine', 'kiwi']\n",
    "fruit"
   ]
  },
  {
   "cell_type": "markdown",
   "metadata": {},
   "source": [
    "Lists are a \"sequence\" data type, so we can iterate through them:"
   ]
  },
  {
   "cell_type": "code",
   "execution_count": 9,
   "metadata": {},
   "outputs": [
    {
     "name": "stdout",
     "output_type": "stream",
     "text": [
      "apple is a fruit\n",
      "orange is a fruit\n",
      "banana is a fruit\n",
      "tomato is a fruit\n",
      "starfruit is a fruit\n",
      "tangerine is a fruit\n",
      "kiwi is a fruit\n"
     ]
    }
   ],
   "source": [
    "for f in fruit:\n",
    "    print(f, 'is a fruit')"
   ]
  },
  {
   "cell_type": "markdown",
   "metadata": {},
   "source": [
    "We can also use the slicing / striding operations like we did on strings:"
   ]
  },
  {
   "cell_type": "code",
   "execution_count": 10,
   "metadata": {},
   "outputs": [
    {
     "data": {
      "text/plain": [
       "['kiwi', 'tangerine', 'starfruit', 'tomato', 'banana', 'orange', 'apple']"
      ]
     },
     "execution_count": 10,
     "metadata": {},
     "output_type": "execute_result"
    }
   ],
   "source": [
    "fruit[::-1]   # compute the reverse of the list"
   ]
  },
  {
   "cell_type": "code",
   "execution_count": 11,
   "metadata": {},
   "outputs": [
    {
     "data": {
      "text/plain": [
       "['apple', 'orange', 'banana', 'tomato', 'starfruit', 'tangerine', 'kiwi']"
      ]
     },
     "execution_count": 11,
     "metadata": {},
     "output_type": "execute_result"
    }
   ],
   "source": [
    "fruit"
   ]
  },
  {
   "cell_type": "code",
   "execution_count": 12,
   "metadata": {},
   "outputs": [
    {
     "data": {
      "text/plain": [
       "['apple', 'tomato', 'kiwi']"
      ]
     },
     "execution_count": 12,
     "metadata": {},
     "output_type": "execute_result"
    }
   ],
   "source": [
    "fruit[::3]  # \"Striding\" extract every 3rd item from the list"
   ]
  },
  {
   "cell_type": "code",
   "execution_count": 13,
   "metadata": {},
   "outputs": [
    {
     "data": {
      "text/plain": [
       "['starfruit', 'tangerine', 'kiwi']"
      ]
     },
     "execution_count": 13,
     "metadata": {},
     "output_type": "execute_result"
    }
   ],
   "source": [
    "fruit[-3:]  # get the last 3 items"
   ]
  },
  {
   "cell_type": "code",
   "execution_count": 14,
   "metadata": {},
   "outputs": [
    {
     "data": {
      "text/plain": [
       "'apple'"
      ]
     },
     "execution_count": 14,
     "metadata": {},
     "output_type": "execute_result"
    }
   ],
   "source": [
    "fruit[0]"
   ]
  },
  {
   "cell_type": "markdown",
   "metadata": {},
   "source": [
    "**Copying lists requires that you are careful. In many situations you'll get another symbol pointing to the same object instead of what you expected:**"
   ]
  },
  {
   "cell_type": "code",
   "execution_count": 15,
   "metadata": {},
   "outputs": [
    {
     "name": "stdout",
     "output_type": "stream",
     "text": [
      "5.3\n"
     ]
    }
   ],
   "source": [
    "x = 5.3\n",
    "y = x\n",
    "print(y)"
   ]
  },
  {
   "cell_type": "code",
   "execution_count": 16,
   "metadata": {},
   "outputs": [
    {
     "name": "stdout",
     "output_type": "stream",
     "text": [
      "7.2\n",
      "5.3\n"
     ]
    }
   ],
   "source": [
    "x = 7.2\n",
    "print(x)\n",
    "print(y)"
   ]
  },
  {
   "cell_type": "code",
   "execution_count": 17,
   "metadata": {},
   "outputs": [
    {
     "name": "stdout",
     "output_type": "stream",
     "text": [
      "['apple', 'orange', 'banana', 'tomato', 'starfruit', 'tangerine', 'kiwi']\n",
      "['apple', 'orange', 'banana', 'tomato', 'kumquat', 'tangerine', 'kiwi']\n"
     ]
    }
   ],
   "source": [
    "other_fruits = fruit   # try to copy the list\n",
    "print(other_fruits)    # check its contents\n",
    "fruit[4] = 'kumquat'   # replace a member of fruit\n",
    "print(other_fruits)    # what just happened!?  I didn't mean to modify other_fruits!"
   ]
  },
  {
   "cell_type": "markdown",
   "metadata": {},
   "source": [
    "Let's try that code in the Online Python Visualizer to help understand what's really happening.\n",
    "http://www.pythontutor.com/visualize.html#mode=edit"
   ]
  },
  {
   "cell_type": "markdown",
   "metadata": {},
   "source": [
    "### Shallow Copies\n",
    "So, if you really mean to make a COPY of a list instead of just another pointer to it, usually the copy() method is what you need.  However, this is still what's called a \"shallow copy\":"
   ]
  },
  {
   "cell_type": "code",
   "execution_count": 18,
   "metadata": {},
   "outputs": [
    {
     "name": "stdout",
     "output_type": "stream",
     "text": [
      "['apple', 'orange', 'banana', 'tomato', 'kumquat', 'tangerine', 'kiwi']\n",
      "['apple', 'orange', 'banana', 'kumquat', 'tangerine', 'kiwi']\n",
      "['apple', 'orange', 'banana', 'tomato', 'kumquat', 'tangerine', 'kiwi']\n"
     ]
    }
   ],
   "source": [
    "other_fruits = fruit.copy()  \n",
    "print(other_fruits)\n",
    "fruit.remove('tomato')   # modify the fruit list\n",
    "print(fruit)\n",
    "print(other_fruits)"
   ]
  },
  {
   "cell_type": "markdown",
   "metadata": {},
   "source": [
    "Yes!  Notice that now 'tomato' is gone from fruit but still exists in other_fruits.  But that only works when the list is NOT nested."
   ]
  },
  {
   "cell_type": "markdown",
   "metadata": {},
   "source": [
    "### Shallow Copies vs Deep Copies\n",
    "In more complex data structures, where there are nested objects within the list, to get a completely independent copy of the whole list, you'd need to use the copy module's deepcopy() function to work around that.  First, let's see how a fairly simple nested list is affected by the copy() method, to understand what a \"shallow copy\" is:"
   ]
  },
  {
   "cell_type": "code",
   "execution_count": 22,
   "metadata": {},
   "outputs": [
    {
     "name": "stdout",
     "output_type": "stream",
     "text": [
      "[1, 2, 3, ['cat', 'dog', 'horse']]\n",
      "[1, 5, 3, ['cat', 'giraffe', 'horse'], 4]\n"
     ]
    }
   ],
   "source": [
    "a = [1, 2, 3, ['cat', 'dog', 'horse']]\n",
    "print(a)\n",
    "b = a.copy()\n",
    "\n",
    "a.append(4)  # add something to list a to see if it shows up in b\n",
    "a[3][1] = 'giraffe'  # modify a part of the nested list as a test\n",
    "a[1] = 5\n",
    "\n",
    "print(a)"
   ]
  },
  {
   "cell_type": "code",
   "execution_count": 23,
   "metadata": {},
   "outputs": [
    {
     "name": "stdout",
     "output_type": "stream",
     "text": [
      "[1, 2, 3, ['cat', 'giraffe', 'horse']]\n"
     ]
    }
   ],
   "source": [
    "print(b)"
   ]
  },
  {
   "cell_type": "markdown",
   "metadata": {},
   "source": [
    "Clearly, modifying the 'dog' value in a's inner list still accidentally modified that part of list b, but the 4 that was appended does not show up because that was a new top-level item in a.  This also should make more sense when viewed through the Python Visualizer.\n",
    "\n",
    "### Demonstrating a true deep copy"
   ]
  },
  {
   "cell_type": "code",
   "execution_count": 21,
   "metadata": {},
   "outputs": [
    {
     "name": "stdout",
     "output_type": "stream",
     "text": [
      "[1, 2, 3, ['cat', 'dog', 'horse']]\n",
      "[1, 2, 3, ['cat', 'giraffe', 'horse'], 4]\n",
      "[1, 2, 3, ['cat', 'dog', 'horse']]\n"
     ]
    }
   ],
   "source": [
    "from copy import deepcopy  # import this standard function so we can use it\n",
    "\n",
    "a = [1, 2, 3, ['cat', 'dog', 'horse']]\n",
    "print(a)\n",
    "b = deepcopy(a)  # make a DEEP copy of a this time.\n",
    "\n",
    "a.append(4)  # add something to list a to see if it shows up in b\n",
    "a[3][1] = 'giraffe'  # modify a part of the nested list as a test\n",
    "\n",
    "print(a)\n",
    "print(b)\n",
    "\n",
    "x = []"
   ]
  },
  {
   "cell_type": "markdown",
   "metadata": {},
   "source": [
    "## Tuples\n",
    "Tuples are IMMUTABLE like strings.  But they are still sequences of zero or more items, so they are iterable.\n",
    "Like lists, the items in tuples can be ANY data type, including other nested tuples. \n",
    "They are created by enclosing comma-separated items in parethenses."
   ]
  },
  {
   "cell_type": "code",
   "execution_count": 26,
   "metadata": {},
   "outputs": [
    {
     "name": "stdout",
     "output_type": "stream",
     "text": [
      "(6, 6, 6)\n",
      "(6, 6, 6)\n",
      "(1,)\n",
      "<class 'tuple'>\n",
      "<class 'tuple'>\n"
     ]
    }
   ],
   "source": [
    "deciduous = ('white oak', 'black walnut', 'red maple', 'silver maple', 'cottonwood')\n",
    "evergreen = ('holly', 'white pine', 'red cedar', 'blue spruce', 'hemlock')\n",
    "empty_tuple = ()\n",
    "one_item_tuple = (1, )   # notice the strange hanging comma here. It's REQUIRED.\n",
    "two_item_tuple = (1, 2)\n",
    "\n",
    "test = (1 + 5) * 3\n",
    "\n",
    "print(test)\n",
    "print(one_item_tuple)\n",
    "print(type(test))\n",
    "print(type(one_item_tuple))"
   ]
  },
  {
   "cell_type": "code",
   "execution_count": null,
   "metadata": {},
   "outputs": [],
   "source": [
    "x = ('some string')\n",
    "x"
   ]
  },
  {
   "cell_type": "markdown",
   "metadata": {},
   "source": [
    "We can use indexing and slicing just as with strings and lists:"
   ]
  },
  {
   "cell_type": "code",
   "execution_count": 27,
   "metadata": {},
   "outputs": [
    {
     "name": "stdout",
     "output_type": "stream",
     "text": [
      "('white oak', 'black walnut', 'red maple')\n"
     ]
    }
   ],
   "source": [
    "print(deciduous[0:3])"
   ]
  },
  {
   "cell_type": "code",
   "execution_count": 28,
   "metadata": {},
   "outputs": [
    {
     "data": {
      "text/plain": [
       "('white oak',\n",
       " 'black walnut',\n",
       " 'red maple',\n",
       " 'silver maple',\n",
       " 'cottonwood',\n",
       " 'holly',\n",
       " 'white pine',\n",
       " 'red cedar',\n",
       " 'blue spruce',\n",
       " 'hemlock')"
      ]
     },
     "execution_count": 28,
     "metadata": {},
     "output_type": "execute_result"
    }
   ],
   "source": [
    "trees = deciduous + evergreen  # we can concatenate tuples, they retain sequence.\n",
    "trees\n",
    "# print(type(trees))"
   ]
  },
  {
   "cell_type": "code",
   "execution_count": 34,
   "metadata": {},
   "outputs": [
    {
     "data": {
      "text/plain": [
       "('white pine',\n",
       " 'white oak',\n",
       " 'silver maple',\n",
       " 'red maple',\n",
       " 'red cedar',\n",
       " 'holly',\n",
       " 'hemlock',\n",
       " 'cottonwood',\n",
       " 'blue spruce',\n",
       " 'black walnut')"
      ]
     },
     "execution_count": 34,
     "metadata": {},
     "output_type": "execute_result"
    }
   ],
   "source": [
    "tuple(sorted(trees, reverse=True))  # we can use the builtin sorted() function on any iterable type."
   ]
  },
  {
   "cell_type": "markdown",
   "metadata": {},
   "source": [
    "## type conversion\n",
    "It is easy to convert lists to tuples and vice versa:"
   ]
  },
  {
   "cell_type": "code",
   "execution_count": 32,
   "metadata": {},
   "outputs": [
    {
     "data": {
      "text/plain": [
       "['white oak',\n",
       " 'black walnut',\n",
       " 'red maple',\n",
       " 'silver maple',\n",
       " 'cottonwood',\n",
       " 'holly',\n",
       " 'white pine',\n",
       " 'red cedar',\n",
       " 'blue spruce',\n",
       " 'hemlock']"
      ]
     },
     "execution_count": 32,
     "metadata": {},
     "output_type": "execute_result"
    }
   ],
   "source": [
    "tree_list = list(trees)\n",
    "tree_list"
   ]
  },
  {
   "cell_type": "code",
   "execution_count": 33,
   "metadata": {},
   "outputs": [
    {
     "data": {
      "text/plain": [
       "('apple', 'banana', 'kiwi', 'kumquat', 'orange', 'tangerine')"
      ]
     },
     "execution_count": 33,
     "metadata": {},
     "output_type": "execute_result"
    }
   ],
   "source": [
    "fruit_tuple = tuple(fruit)\n",
    "# fruit_tuple\n",
    "tuple(sorted(fruit_tuple))"
   ]
  },
  {
   "cell_type": "markdown",
   "metadata": {},
   "source": [
    "## Mutability & Immutability\n",
    "What happens when mutable objects contain immutable objects?"
   ]
  },
  {
   "cell_type": "code",
   "execution_count": 37,
   "metadata": {},
   "outputs": [
    {
     "data": {
      "text/plain": [
       "[5,\n",
       " 3.14159,\n",
       " 'string',\n",
       " ['a', 'something completely different', 'c'],\n",
       " (1, 2, 3, 4)]"
      ]
     },
     "execution_count": 37,
     "metadata": {},
     "output_type": "execute_result"
    }
   ],
   "source": [
    "test = [5, 3.14159, 'string', ['a', 'b', 'c'], (1, 2, 3, 4)]\n",
    "test\n",
    "test[3][1] = 'something completely different'\n",
    "test"
   ]
  },
  {
   "cell_type": "code",
   "execution_count": 38,
   "metadata": {},
   "outputs": [
    {
     "ename": "TypeError",
     "evalue": "'tuple' object does not support item assignment",
     "traceback": [
      "\u001b[0;31m---------------------------------------------------------------------------\u001b[0m",
      "\u001b[0;31mTypeError\u001b[0m                                 Traceback (most recent call last)",
      "\u001b[0;32m<ipython-input-38-1c1497d48320>\u001b[0m in \u001b[0;36m<module>\u001b[0;34m()\u001b[0m\n\u001b[0;32m----> 1\u001b[0;31m \u001b[0mtest\u001b[0m\u001b[0;34m[\u001b[0m\u001b[0;36m4\u001b[0m\u001b[0;34m]\u001b[0m\u001b[0;34m[\u001b[0m\u001b[0;36m3\u001b[0m\u001b[0;34m]\u001b[0m \u001b[0;34m=\u001b[0m \u001b[0;36m47\u001b[0m\u001b[0;34m\u001b[0m\u001b[0m\n\u001b[0m",
      "\u001b[0;31mTypeError\u001b[0m: 'tuple' object does not support item assignment"
     ],
     "output_type": "error"
    }
   ],
   "source": [
    "test[4][3] = 47"
   ]
  },
  {
   "cell_type": "code",
   "execution_count": null,
   "metadata": {},
   "outputs": [],
   "source": [
    "# this is not valid, because it tries to modify PART of a tuple stored within the list.\n",
    "test[4][3] = 8   "
   ]
  },
  {
   "cell_type": "markdown",
   "metadata": {},
   "source": [
    "Note though we can delete or replace the WHOLE tuple without violating the immutability"
   ]
  },
  {
   "cell_type": "code",
   "execution_count": 39,
   "metadata": {
    "collapsed": true
   },
   "outputs": [],
   "source": [
    "test[4] = (1, 2, 3, 8)"
   ]
  },
  {
   "cell_type": "code",
   "execution_count": 40,
   "metadata": {},
   "outputs": [
    {
     "data": {
      "text/plain": [
       "[5,\n",
       " 3.14159,\n",
       " 'string',\n",
       " ['a', 'something completely different', 'c'],\n",
       " (1, 2, 3, 8)]"
      ]
     },
     "execution_count": 40,
     "metadata": {},
     "output_type": "execute_result"
    }
   ],
   "source": [
    "test"
   ]
  },
  {
   "cell_type": "code",
   "execution_count": 41,
   "metadata": {
    "collapsed": true
   },
   "outputs": [],
   "source": [
    "del test[4]"
   ]
  },
  {
   "cell_type": "code",
   "execution_count": 42,
   "metadata": {},
   "outputs": [
    {
     "data": {
      "text/plain": [
       "[5, 3.14159, 'string', ['a', 'something completely different', 'c']]"
      ]
     },
     "execution_count": 42,
     "metadata": {},
     "output_type": "execute_result"
    }
   ],
   "source": [
    "test"
   ]
  },
  {
   "cell_type": "markdown",
   "metadata": {},
   "source": [
    "# Dictionaries\n",
    "Dictionaries in Python are essentially the same as data types called \"Hash Maps\" or \"Associative Arrays\" in other programming languages. They actually store a set of key/value pairs.  They work like a list or array except that their indexes (called \"keys\") can be arbitrary values that aren't necessarily integers. Also, the indexes don't have to be consecutive in any sense, and can even vary data types. Dictionaries turn out to be very handy for many common situations in coding. They are also generally fast in most operations, and efficient in storage.\n",
    "\n",
    "Note that the keys MUST be unique within a dictionary, and that the _standard_ dictionary type does NOT preserve the order of keys or values."
   ]
  },
  {
   "cell_type": "code",
   "execution_count": 45,
   "metadata": {},
   "outputs": [
    {
     "name": "stdout",
     "output_type": "stream",
     "text": [
      "Anita's favorite food is salad\n",
      "Bob's favorite food is steak\n",
      "Gina's favorite food is spaghetti\n",
      "Joe's favorite food is pizza\n"
     ]
    }
   ],
   "source": [
    "favorite_foods = {'Joe': 'pizza', \n",
    "                  'Bob': 'beer', \n",
    "                  'Gina': 'spaghetti', \n",
    "                  'Anita': 'salad'}\n",
    "favorite_foods['Bob'] = 'steak'\n",
    "for name in sorted(favorite_foods):\n",
    "    print(\"{}'s favorite food is {}\".format(name, favorite_foods[name]))"
   ]
  },
  {
   "cell_type": "markdown",
   "metadata": {},
   "source": [
    "Dictionaries are mutable, so we can definitely add and remove items (key/value pairs) to and from existing dictionaries.  Notice though that we CREATE a dictionary with curly braces, but we still use the square brackets to do indexing, even in assignments:"
   ]
  },
  {
   "cell_type": "code",
   "execution_count": 46,
   "metadata": {},
   "outputs": [
    {
     "name": "stdout",
     "output_type": "stream",
     "text": [
      "dict_keys(['Joe', 'Bob', 'Gina', 'Anita', 'George', 'Zelda', 'Edward', 'Edward, Jr.'])\n",
      "dict_values(['pizza', 'steak', 'spaghetti', 'salad', 'banana', 'salad', 'steak', 'steak'])\n"
     ]
    }
   ],
   "source": [
    "favorite_foods['George'] = 'banana'\n",
    "favorite_foods['Anita'] = 'salad'\n",
    "favorite_foods['Zelda'] = 'salad'\n",
    "favorite_foods['Edward'] = 'steak'\n",
    "favorite_foods['Edward, Jr.'] = 'steak'\n",
    "\n",
    "print(favorite_foods.keys())\n",
    "print(favorite_foods.values())"
   ]
  },
  {
   "cell_type": "code",
   "execution_count": 49,
   "metadata": {},
   "outputs": [
    {
     "data": {
      "text/plain": [
       "{'Anita': 'salad',\n",
       " 'Bob': 'steak',\n",
       " 'Edward': 'steak',\n",
       " 'Edward, Jr.': 'steak',\n",
       " 'George': 'banana',\n",
       " 'Gina': 'spaghetti',\n",
       " 'Joe': 'pizza',\n",
       " 'Zelda': 'salad'}"
      ]
     },
     "execution_count": 49,
     "metadata": {},
     "output_type": "execute_result"
    }
   ],
   "source": [
    "favorite_foods"
   ]
  },
  {
   "cell_type": "markdown",
   "metadata": {},
   "source": [
    "### Sometimes we might want to invert a dictionary (swap the keys and values)"
   ]
  },
  {
   "cell_type": "code",
   "execution_count": 51,
   "metadata": {},
   "outputs": [
    {
     "name": "stdout",
     "output_type": "stream",
     "text": [
      "{'pizza': 'Joe', 'steak': 'Bob, Edward, Edward, Jr.', 'spaghetti': 'Gina', 'salad': 'Anita, Zelda', 'banana': 'George'}\n",
      "George's favorite food is banana\n",
      "Joe's favorite food is pizza\n",
      "Anita, Zelda's favorite food is salad\n",
      "Gina's favorite food is spaghetti\n",
      "Bob, Edward, Edward, Jr.'s favorite food is steak\n"
     ]
    }
   ],
   "source": [
    "flipped = {}\n",
    "for k in favorite_foods.keys():\n",
    "    v = favorite_foods[k]\n",
    "    if v not in flipped:\n",
    "        flipped[v] = k\n",
    "    else:\n",
    "        flipped[v] += ', ' +k \n",
    "\n",
    "print(flipped)\n",
    "for food in sorted(flipped):\n",
    "    print(\"{}'s favorite food is {}\".format(flipped[food], food))"
   ]
  },
  {
   "cell_type": "markdown",
   "metadata": {},
   "source": [
    "There is a problem with the above code though...  what is it?\n",
    "\n",
    "If more than one VALUE is the same, it will only retain the LAST associated key in the 'flipped' dictionary.  So we need to improve the algorithm to check for duplicate values (the food name) and store multiple names with that key.\n",
    "\n",
    "One way to do it is like this:"
   ]
  },
  {
   "cell_type": "code",
   "execution_count": 52,
   "metadata": {},
   "outputs": [
    {
     "data": {
      "text/plain": [
       "{'banana': 'George',\n",
       " 'pizza': 'Joe',\n",
       " 'salad': ['Anita', 'Zelda'],\n",
       " 'spaghetti': 'Gina',\n",
       " 'steak': ['Bob', 'Edward', 'Edward, Jr.']}"
      ]
     },
     "execution_count": 52,
     "metadata": {},
     "output_type": "execute_result"
    }
   ],
   "source": [
    "flipped = {}\n",
    "for k in favorite_foods.keys():\n",
    "    v = favorite_foods[k]\n",
    "    if v not in flipped.keys():\n",
    "        flipped[v] = k\n",
    "    elif isinstance(flipped[v], str):\n",
    "        flipped[v] = [flipped[v], k]\n",
    "    else:\n",
    "        flipped[v].append(k)\n",
    "\n",
    "flipped"
   ]
  },
  {
   "cell_type": "markdown",
   "metadata": {},
   "source": [
    "The problem with the previous solution though is it produces an inconsistent data structure, where some values are bare strings, and others are lists of strings.  \n",
    "\n",
    "So a better and simpler approach is to make ALL the values into lists of strings, even if there's only one name in that list:"
   ]
  },
  {
   "cell_type": "code",
   "execution_count": 53,
   "metadata": {},
   "outputs": [
    {
     "name": "stdout",
     "output_type": "stream",
     "text": [
      "{'pizza': ['Joe'], 'steak': ['Bob', 'Edward', 'Edward, Jr.'], 'spaghetti': ['Gina'], 'salad': ['Anita', 'Zelda'], 'banana': ['George']}\n"
     ]
    }
   ],
   "source": [
    "flipped = {}\n",
    "for k in favorite_foods.keys():\n",
    "    v = favorite_foods[k]\n",
    "    if v not in flipped.keys():\n",
    "        flipped[v] = [k]\n",
    "    else:\n",
    "        flipped[v].append(k)\n",
    "\n",
    "print(flipped)"
   ]
  },
  {
   "cell_type": "code",
   "execution_count": 54,
   "metadata": {},
   "outputs": [
    {
     "name": "stdout",
     "output_type": "stream",
     "text": [
      "pizza is liked best by Joe, \n",
      "steak is liked best by Bob, Edward, Edward, Jr., \n",
      "spaghetti is liked best by Gina, \n",
      "salad is liked best by Anita, Zelda, \n",
      "banana is liked best by George, \n"
     ]
    }
   ],
   "source": [
    "for food in flipped:\n",
    "    print(food, 'is liked best by ', end='')\n",
    "    for name in flipped[food]:\n",
    "        print(name, end=', ')\n",
    "    print()"
   ]
  },
  {
   "cell_type": "code",
   "execution_count": 55,
   "metadata": {},
   "outputs": [
    {
     "name": "stdout",
     "output_type": "stream",
     "text": [
      "pizza is liked best by Joe\n",
      "steak is liked best by Bob, Edward, Edward, Jr.\n",
      "spaghetti is liked best by Gina\n",
      "salad is liked best by Anita, Zelda\n",
      "banana is liked best by George\n"
     ]
    }
   ],
   "source": [
    "for food in flipped:\n",
    "    print(food, 'is liked best by ', end='')\n",
    "    print(', '.join(flipped[food]))"
   ]
  },
  {
   "cell_type": "markdown",
   "metadata": {},
   "source": [
    "# Converting dictionaries\n",
    "Note that although we can convert from dictionaries to other data types, it's not as straightforward. Python doesn't know what we really want to do with the data structure."
   ]
  },
  {
   "cell_type": "code",
   "execution_count": 56,
   "metadata": {},
   "outputs": [
    {
     "data": {
      "text/plain": [
       "['Joe', 'Bob', 'Gina', 'Anita', 'George', 'Zelda', 'Edward', 'Edward, Jr.']"
      ]
     },
     "execution_count": 56,
     "metadata": {},
     "output_type": "execute_result"
    }
   ],
   "source": [
    "list(favorite_foods)  # this ends up creating a list of the keys, and ignoring the values."
   ]
  },
  {
   "cell_type": "code",
   "execution_count": 57,
   "metadata": {},
   "outputs": [
    {
     "data": {
      "text/plain": [
       "['pizza', 'steak', 'spaghetti', 'salad', 'banana', 'salad', 'steak', 'steak']"
      ]
     },
     "execution_count": 57,
     "metadata": {},
     "output_type": "execute_result"
    }
   ],
   "source": [
    "list(favorite_foods.values())  # this is a way to make a list of the values (ignoring the keys)"
   ]
  },
  {
   "cell_type": "markdown",
   "metadata": {},
   "source": [
    "## File Input/Output\n",
    "Many data files we use in Python are some type of \"text\" files.  These include plain text, CSV (comma-separated values), TSV (tab-separated values), and even XML or HTML files.  Python works with text files by applying \"character encoding\" to properly interpret and format the data characters.   "
   ]
  },
  {
   "cell_type": "markdown",
   "metadata": {},
   "source": [
    "In this example, we create (output) the list of tree species into a new file, one per line:"
   ]
  },
  {
   "cell_type": "code",
   "execution_count": 58,
   "metadata": {
    "collapsed": true
   },
   "outputs": [],
   "source": [
    "tree_list = list(trees)"
   ]
  },
  {
   "cell_type": "code",
   "execution_count": 59,
   "metadata": {
    "collapsed": true
   },
   "outputs": [],
   "source": [
    "with open('tree_species.txt', 'w') as f:\n",
    "    for tree in tree_list:\n",
    "        print(tree, file=f)\n"
   ]
  },
  {
   "cell_type": "markdown",
   "metadata": {},
   "source": [
    "Next, we read in the textfile into a list:"
   ]
  },
  {
   "cell_type": "code",
   "execution_count": 73,
   "metadata": {},
   "outputs": [
    {
     "name": "stdout",
     "output_type": "stream",
     "text": [
      "<class '_io.TextIOWrapper'>\n"
     ]
    },
    {
     "data": {
      "text/plain": [
       "['white oak\\n']"
      ]
     },
     "execution_count": 73,
     "metadata": {},
     "output_type": "execute_result"
    }
   ],
   "source": [
    "with open('tree_species.txt', 'r') as input_file:\n",
    "    print(type(input_file))\n",
    "    new_tree_list = input_file.readline()  \n",
    "    # readlines() scoops every line into a string, stored as an item in a list\n",
    "new_tree_list"
   ]
  },
  {
   "cell_type": "markdown",
   "metadata": {},
   "source": [
    "Notice that worked, except it included the newline characters, keeping them at the end of each item.  We don't really want that in the data.  There are many ways to remove or avoid that behavior, one way is below:"
   ]
  },
  {
   "cell_type": "code",
   "execution_count": 61,
   "metadata": {},
   "outputs": [
    {
     "name": "stdout",
     "output_type": "stream",
     "text": [
      "['white oak', 'black walnut', 'red maple', 'silver maple', 'cottonwood', 'holly', 'white pine', 'red cedar', 'blue spruce', 'hemlock']\n"
     ]
    }
   ],
   "source": [
    "with open('tree_species.txt', 'r') as input_file:\n",
    "    new_tree_list = input_file.read().splitlines(keepends=False) \n",
    "    # This approach reads the whole file as one string, then splits into a list\n",
    "    # of individual lines in a separate step while discarding the line endings.\n",
    "\n",
    "print(new_tree_list)\n"
   ]
  },
  {
   "cell_type": "markdown",
   "metadata": {},
   "source": [
    "In the next example, we read (input) that same file into a list, sort it, and then write a new file called 'sorted_tree_species.txt'"
   ]
  },
  {
   "cell_type": "code",
   "execution_count": 62,
   "metadata": {
    "collapsed": true
   },
   "outputs": [],
   "source": [
    "with open('tree_species.txt', 'r') as input_file:\n",
    "    new_tree_list = input_file.read().splitlines(keepends=False) \n",
    "\n",
    "with open('sorted_tree_species.txt', 'w') as output_file:\n",
    "    for tree in sorted(new_tree_list):\n",
    "        print(tree, file=output_file)"
   ]
  },
  {
   "cell_type": "markdown",
   "metadata": {},
   "source": [
    "## Incremental file reading\n",
    "The above examples used the file methods read() and readlines(), both of which normally read the ENTIRE file into memory.  But for many situations, we don't want to read the whole data stream at once, or possibly we _can't_ because some other process is simultaneously adding data to the same file or stream.  So we must also be comfortable with incremental file processing, and I expect you to do this properly in Assignment 2.\n",
    "\n",
    "The most common ways to do this are to:\n",
    " * Read one line at a time and process it. (This works with text files only)\n",
    " * Read (up to) a specified number of bytes at a time."
   ]
  },
  {
   "cell_type": "markdown",
   "metadata": {},
   "source": [
    "Simple example of generating a big text file with an unknown quantity of numbers on each line:"
   ]
  },
  {
   "cell_type": "code",
   "execution_count": 63,
   "metadata": {
    "collapsed": true
   },
   "outputs": [],
   "source": [
    "from random import randint\n",
    "\n",
    "num_lines = randint(100,300)  # randomize the length of the file\n",
    "\n",
    "with open('random_numbers.txt', 'w') as f:\n",
    "    for i in range(num_lines):\n",
    "        nums_per_line = randint(2, 8) # Randomize how many distinct numbers we put on this line\n",
    "        s = '' # initialize a blank string\n",
    "        for j in range(nums_per_line):\n",
    "            # Generate a new random number between 1 & 1000, inclusive:\n",
    "            n = randint(1, 1000)\n",
    "            s += str(n) + ' '  # convert integer to string and concatenate with a space\n",
    "        print(s, file=f)"
   ]
  },
  {
   "cell_type": "markdown",
   "metadata": {},
   "source": [
    "Simple example to read that file of numbers, *one line at a time* and process it to compute the sum for each line."
   ]
  },
  {
   "cell_type": "code",
   "execution_count": 65,
   "metadata": {},
   "outputs": [
    {
     "name": "stdout",
     "output_type": "stream",
     "text": [
      "573 756 945 199 338 129 146 \n",
      "  totals to:  3086\n",
      "651 943 291 311 134 705 238 474 \n",
      "  totals to:  3747\n",
      "762 761 93 604 602 430 \n",
      "  totals to:  3252\n",
      "216 287 \n",
      "  totals to:  503\n",
      "119 889 493 \n",
      "  totals to:  1501\n",
      "237 848 731 749 \n",
      "  totals to:  2565\n",
      "349 539 \n",
      "  totals to:  888\n",
      "897 898 \n",
      "  totals to:  1795\n",
      "992 723 551 \n",
      "  totals to:  2266\n",
      "674 966 789 366 428 521 922 722 \n",
      "  totals to:  5388\n",
      "937 222 356 \n",
      "  totals to:  1515\n",
      "239 938 677 465 286 \n",
      "  totals to:  2605\n",
      "405 957 831 951 \n",
      "  totals to:  3144\n",
      "192 736 237 566 \n",
      "  totals to:  1731\n",
      "664 188 480 83 371 424 140 \n",
      "  totals to:  2350\n",
      "41 343 79 \n",
      "  totals to:  463\n",
      "435 978 \n",
      "  totals to:  1413\n",
      "624 924 668 \n",
      "  totals to:  2216\n",
      "430 683 832 107 734 \n",
      "  totals to:  2786\n",
      "405 470 84 552 \n",
      "  totals to:  1511\n",
      "192 40 938 860 175 67 635 \n",
      "  totals to:  2907\n",
      "308 997 249 432 449 \n",
      "  totals to:  2435\n",
      "291 631 99 876 824 118 \n",
      "  totals to:  2839\n",
      "100 901 738 25 662 373 480 \n",
      "  totals to:  3279\n",
      "201 648 381 557 298 \n",
      "  totals to:  2085\n",
      "711 504 143 \n",
      "  totals to:  1358\n",
      "470 711 31 401 700 98 686 325 \n",
      "  totals to:  3422\n",
      "496 427 554 831 930 \n",
      "  totals to:  3238\n",
      "711 341 751 639 176 20 924 \n",
      "  totals to:  3562\n",
      "947 887 432 \n",
      "  totals to:  2266\n",
      "348 334 572 \n",
      "  totals to:  1254\n",
      "644 149 535 \n",
      "  totals to:  1328\n",
      "35 975 629 527 672 20 211 \n",
      "  totals to:  3069\n",
      "848 726 74 991 62 18 853 277 \n",
      "  totals to:  3849\n",
      "278 559 \n",
      "  totals to:  837\n",
      "203 503 \n",
      "  totals to:  706\n",
      "758 577 56 326 5 701 324 \n",
      "  totals to:  2747\n",
      "181 167 307 653 196 819 952 \n",
      "  totals to:  3275\n",
      "172 748 680 988 712 \n",
      "  totals to:  3300\n",
      "185 107 78 988 967 \n",
      "  totals to:  2325\n",
      "437 689 783 237 664 195 312 \n",
      "  totals to:  3317\n",
      "312 310 530 822 921 308 252 10 \n",
      "  totals to:  3465\n",
      "643 780 61 412 221 877 54 \n",
      "  totals to:  3048\n",
      "664 49 \n",
      "  totals to:  713\n",
      "116 804 774 287 984 \n",
      "  totals to:  2965\n",
      "440 977 988 \n",
      "  totals to:  2405\n",
      "972 526 630 805 \n",
      "  totals to:  2933\n",
      "614 895 77 777 938 698 300 886 \n",
      "  totals to:  5185\n",
      "776 309 261 845 831 377 259 178 \n",
      "  totals to:  3836\n",
      "836 760 309 848 771 15 358 \n",
      "  totals to:  3897\n",
      "490 180 290 372 602 \n",
      "  totals to:  1934\n",
      "882 650 940 434 763 357 388 780 \n",
      "  totals to:  5194\n",
      "140 94 207 844 579 430 \n",
      "  totals to:  2294\n",
      "993 789 98 729 \n",
      "  totals to:  2609\n",
      "822 676 869 566 134 \n",
      "  totals to:  3067\n",
      "658 307 723 87 \n",
      "  totals to:  1775\n",
      "338 976 \n",
      "  totals to:  1314\n",
      "961 690 481 510 559 460 792 \n",
      "  totals to:  4453\n",
      "377 863 \n",
      "  totals to:  1240\n",
      "166 496 303 289 117 523 817 \n",
      "  totals to:  2711\n",
      "659 912 525 256 \n",
      "  totals to:  2352\n",
      "726 988 677 \n",
      "  totals to:  2391\n",
      "881 997 \n",
      "  totals to:  1878\n",
      "356 914 334 \n",
      "  totals to:  1604\n",
      "492 80 421 633 469 798 541 783 \n",
      "  totals to:  4217\n",
      "741 123 969 554 207 955 967 \n",
      "  totals to:  4516\n",
      "362 859 \n",
      "  totals to:  1221\n",
      "719 85 133 149 726 752 \n",
      "  totals to:  2564\n",
      "174 693 695 \n",
      "  totals to:  1562\n",
      "882 662 \n",
      "  totals to:  1544\n",
      "480 312 \n",
      "  totals to:  792\n",
      "153 855 595 194 \n",
      "  totals to:  1797\n",
      "70 291 745 767 448 384 963 800 \n",
      "  totals to:  4468\n",
      "429 751 637 40 706 638 654 \n",
      "  totals to:  3855\n",
      "151 802 276 206 892 123 156 \n",
      "  totals to:  2606\n",
      "832 989 984 904 \n",
      "  totals to:  3709\n",
      "659 874 660 \n",
      "  totals to:  2193\n",
      "277 163 485 882 826 \n",
      "  totals to:  2633\n",
      "315 924 382 527 877 \n",
      "  totals to:  3025\n",
      "934 126 920 \n",
      "  totals to:  1980\n",
      "462 165 \n",
      "  totals to:  627\n",
      "95 434 950 552 417 845 192 \n",
      "  totals to:  3485\n",
      "281 293 \n",
      "  totals to:  574\n",
      "609 237 755 114 746 \n",
      "  totals to:  2461\n",
      "334 605 115 981 719 192 413 \n",
      "  totals to:  3359\n",
      "504 724 752 526 \n",
      "  totals to:  2506\n",
      "619 847 673 847 \n",
      "  totals to:  2986\n",
      "889 471 \n",
      "  totals to:  1360\n",
      "575 966 133 \n",
      "  totals to:  1674\n",
      "486 182 893 \n",
      "  totals to:  1561\n",
      "462 629 725 885 731 445 \n",
      "  totals to:  3877\n",
      "478 472 865 172 351 126 305 \n",
      "  totals to:  2769\n",
      "460 421 3 \n",
      "  totals to:  884\n",
      "460 311 523 700 \n",
      "  totals to:  1994\n",
      "2 823 771 551 802 307 403 \n",
      "  totals to:  3659\n",
      "364 285 769 974 561 677 799 \n",
      "  totals to:  4429\n",
      "917 661 734 272 295 \n",
      "  totals to:  2879\n",
      "82 264 232 127 14 125 359 \n",
      "  totals to:  1203\n",
      "937 76 460 319 \n",
      "  totals to:  1792\n",
      "881 138 503 395 2 \n",
      "  totals to:  1919\n",
      "26 172 49 238 \n",
      "  totals to:  485\n",
      "171 607 763 53 509 598 411 91 \n",
      "  totals to:  3203\n",
      "421 306 966 330 209 \n",
      "  totals to:  2232\n",
      "165 913 765 30 181 530 \n",
      "  totals to:  2584\n",
      "817 236 30 386 188 \n",
      "  totals to:  1657\n",
      "930 184 160 \n",
      "  totals to:  1274\n",
      "292 285 195 87 5 47 \n",
      "  totals to:  911\n",
      "699 606 241 308 443 454 666 \n",
      "  totals to:  3417\n",
      "548 551 \n",
      "  totals to:  1099\n",
      "927 409 738 434 770 628 \n",
      "  totals to:  3906\n",
      "109 916 807 845 900 337 691 \n",
      "  totals to:  4605\n",
      "407 997 855 391 263 301 823 206 \n",
      "  totals to:  4243\n",
      "743 86 \n",
      "  totals to:  829\n",
      "203 679 969 \n",
      "  totals to:  1851\n",
      "143 527 160 218 76 \n",
      "  totals to:  1124\n",
      "141 517 \n",
      "  totals to:  658\n",
      "263 189 137 545 720 \n",
      "  totals to:  1854\n",
      "105 468 120 \n",
      "  totals to:  693\n",
      "476 122 945 401 246 728 16 310 \n",
      "  totals to:  3244\n",
      "804 584 607 204 330 \n",
      "  totals to:  2529\n",
      "182 122 504 695 375 422 667 \n",
      "  totals to:  2967\n",
      "727 606 \n",
      "  totals to:  1333\n",
      "379 674 127 588 \n",
      "  totals to:  1768\n",
      "702 189 931 115 507 511 \n",
      "  totals to:  2955\n",
      "154 977 272 887 261 661 709 \n",
      "  totals to:  3921\n",
      "522 133 990 726 275 \n",
      "  totals to:  2646\n",
      "180 87 549 411 308 170 560 \n",
      "  totals to:  2265\n",
      "465 729 \n",
      "  totals to:  1194\n",
      "987 752 337 480 296 176 896 \n",
      "  totals to:  3924\n",
      "613 981 711 811 826 360 953 \n",
      "  totals to:  5255\n",
      "66 862 520 749 519 353 37 \n",
      "  totals to:  3106\n",
      "390 164 \n",
      "  totals to:  554\n",
      "464 704 242 534 915 \n",
      "  totals to:  2859\n",
      "337 933 270 301 129 42 389 \n",
      "  totals to:  2401\n",
      "63 411 169 439 673 711 \n",
      "  totals to:  2466\n",
      "169 266 359 717 \n",
      "  totals to:  1511\n",
      "366 248 263 533 551 654 656 959 \n",
      "  totals to:  4230\n",
      "168 626 252 254 446 512 550 272 \n",
      "  totals to:  3080\n",
      "83 567 680 526 214 876 81 \n",
      "  totals to:  3027\n",
      "650 893 507 \n",
      "  totals to:  2050\n",
      "398 842 501 532 537 \n",
      "  totals to:  2810\n",
      "360 243 825 845 952 106 \n",
      "  totals to:  3331\n",
      "449 798 448 463 \n",
      "  totals to:  2158\n",
      "302 317 520 967 31 \n",
      "  totals to:  2137\n",
      "490 404 47 424 416 \n",
      "  totals to:  1781\n",
      "640 493 234 914 322 793 \n",
      "  totals to:  3396\n",
      "265 802 965 \n",
      "  totals to:  2032\n",
      "301 876 619 \n",
      "  totals to:  1796\n",
      "629 648 \n",
      "  totals to:  1277\n",
      "27 917 341 694 981 \n",
      "  totals to:  2960\n",
      "674 169 \n",
      "  totals to:  843\n",
      "990 256 588 789 \n",
      "  totals to:  2623\n",
      "534 166 957 \n",
      "  totals to:  1657\n",
      "231 842 \n",
      "  totals to:  1073\n",
      "976 756 768 971 599 59 216 \n",
      "  totals to:  4345\n",
      "568 49 972 657 264 50 941 \n",
      "  totals to:  3501\n",
      "97 627 834 521 915 \n",
      "  totals to:  2994\n",
      "222 228 760 \n",
      "  totals to:  1210\n",
      "218 807 248 232 296 \n",
      "  totals to:  1801\n",
      "705 681 592 \n",
      "  totals to:  1978\n",
      "627 328 454 \n",
      "  totals to:  1409\n",
      "350 688 593 829 306 879 906 \n",
      "  totals to:  4551\n",
      "414 707 457 423 723 476 284 45 \n",
      "  totals to:  3529\n",
      "158 934 476 \n",
      "  totals to:  1568\n",
      "458 909 432 380 428 305 973 33 \n",
      "  totals to:  3918\n",
      "202 852 386 672 142 176 \n",
      "  totals to:  2430\n",
      "557 938 987 234 913 \n",
      "  totals to:  3629\n",
      "609 226 538 479 529 905 \n",
      "  totals to:  3286\n",
      "332 704 \n",
      "  totals to:  1036\n",
      "87 893 215 458 498 732 \n",
      "  totals to:  2883\n",
      "272 549 336 121 24 624 33 12 \n",
      "  totals to:  1971\n",
      "333 666 585 296 \n",
      "  totals to:  1880\n",
      "117 557 235 57 21 166 903 \n",
      "  totals to:  2056\n",
      "161 742 345 \n",
      "  totals to:  1248\n",
      "413 114 \n",
      "  totals to:  527\n",
      "734 988 893 344 505 592 \n",
      "  totals to:  4056\n",
      "994 407 78 661 245 630 110 \n",
      "  totals to:  3125\n",
      "40 274 727 919 \n",
      "  totals to:  1960\n",
      "304 24 606 849 \n",
      "  totals to:  1783\n",
      "617 374 469 897 136 488 44 903 \n",
      "  totals to:  3928\n",
      "108 102 725 904 112 539 \n",
      "  totals to:  2490\n",
      "181 824 787 628 217 236 \n",
      "  totals to:  2873\n",
      "345 780 994 760 380 18 123 \n",
      "  totals to:  3400\n",
      "100 105 198 \n",
      "  totals to:  403\n",
      "915 175 630 812 497 96 \n",
      "  totals to:  3125\n",
      "125 174 450 \n",
      "  totals to:  749\n",
      "839 135 865 740 \n",
      "  totals to:  2579\n",
      "950 675 544 \n",
      "  totals to:  2169\n",
      "533 492 527 236 277 \n",
      "  totals to:  2065\n",
      "509 636 630 288 977 120 562 827 \n",
      "  totals to:  4549\n",
      "960 421 120 \n",
      "  totals to:  1501\n",
      "931 306 370 931 \n",
      "  totals to:  2538\n",
      "647 752 518 6 358 \n",
      "  totals to:  2281\n",
      "229 940 557 393 789 913 980 \n",
      "  totals to:  4801\n",
      "793 805 477 973 434 110 160 959 \n",
      "  totals to:  4711\n",
      "264 9 \n",
      "  totals to:  273\n",
      "344 726 960 538 347 494 220 219 \n",
      "  totals to:  3848\n",
      "59 544 \n",
      "  totals to:  603\n",
      "748 752 \n",
      "  totals to:  1500\n",
      "484 873 816 873 \n",
      "  totals to:  3046\n",
      "998 226 459 \n",
      "  totals to:  1683\n",
      "97 390 765 \n",
      "  totals to:  1252\n",
      "557 784 610 995 1 765 335 \n",
      "  totals to:  4047\n",
      "61 435 385 127 314 868 \n",
      "  totals to:  2190\n",
      "779 269 558 \n",
      "  totals to:  1606\n",
      "28 251 336 864 \n",
      "  totals to:  1479\n",
      "686 926 931 951 353 797 81 936 \n",
      "  totals to:  5661\n",
      "922 580 690 210 166 942 \n",
      "  totals to:  3510\n",
      "216 818 729 226 862 377 \n",
      "  totals to:  3228\n",
      "98 992 455 731 658 627 399 258 \n",
      "  totals to:  4218\n",
      "306 227 512 666 789 233 229 188 \n",
      "  totals to:  3150\n",
      "891 115 540 320 513 234 \n",
      "  totals to:  2613\n",
      "346 926 55 341 842 \n",
      "  totals to:  2510\n",
      "520 926 555 855 \n",
      "  totals to:  2856\n",
      "937 479 \n",
      "  totals to:  1416\n",
      "228 317 286 520 334 692 \n",
      "  totals to:  2377\n",
      "780 613 33 544 \n",
      "  totals to:  1970\n",
      "664 389 710 803 826 723 399 \n",
      "  totals to:  4514\n",
      "65 446 150 481 329 592 716 446 \n",
      "  totals to:  3225\n",
      "32 409 175 51 820 272 \n",
      "  totals to:  1759\n",
      "929 495 \n",
      "  totals to:  1424\n",
      "856 976 31 182 523 \n",
      "  totals to:  2568\n",
      "436 753 720 13 \n",
      "  totals to:  1922\n",
      "933 119 132 527 \n",
      "  totals to:  1711\n",
      "11 908 22 375 \n",
      "  totals to:  1316\n",
      "123 911 152 247 245 595 251 647 \n",
      "  totals to:  3171\n",
      "35 638 821 636 526 805 890 949 \n",
      "  totals to:  5300\n",
      "461 311 449 376 4 332 159 376 \n",
      "  totals to:  2468\n",
      "71 769 127 973 473 72 721 \n",
      "  totals to:  3206\n",
      "189 178 110 999 \n",
      "  totals to:  1476\n",
      "706 381 808 597 396 491 468 949 \n",
      "  totals to:  4796\n",
      "142 970 171 314 953 298 349 276 \n",
      "  totals to:  3473\n",
      "886 40 401 \n",
      "  totals to:  1327\n",
      "620 73 74 738 957 363 323 696 \n",
      "  totals to:  3844\n",
      "861 464 \n",
      "  totals to:  1325\n",
      "639 906 911 899 \n",
      "  totals to:  3355\n",
      "972 542 893 783 794 675 646 946 \n",
      "  totals to:  6251\n",
      "363 646 118 \n",
      "  totals to:  1127\n",
      "498 283 \n",
      "  totals to:  781\n",
      "538 765 355 139 \n",
      "  totals to:  1797\n",
      "262 153 363 811 193 \n",
      "  totals to:  1782\n",
      "67 937 990 776 986 252 \n",
      "  totals to:  4008\n",
      "552 304 545 141 \n",
      "  totals to:  1542\n",
      "406 804 934 220 \n",
      "  totals to:  2364\n",
      "298 767 419 208 687 \n",
      "  totals to:  2379\n",
      "699 354 729 \n",
      "  totals to:  1782\n",
      "30 852 903 868 388 \n",
      "  totals to:  3041\n",
      "898 886 577 374 \n",
      "  totals to:  2735\n",
      "667 135 879 464 317 230 \n",
      "  totals to:  2692\n",
      "842 97 102 176 881 53 123 \n",
      "  totals to:  2274\n",
      "703 31 878 575 311 858 79 \n",
      "  totals to:  3435\n",
      "302 877 676 408 747 973 20 560 \n",
      "  totals to:  4563\n",
      "633 400 \n",
      "  totals to:  1033\n",
      "791 635 77 566 170 692 258 992 \n",
      "  totals to:  4181\n",
      "92 643 690 574 143 137 75 \n",
      "  totals to:  2354\n",
      "721 946 200 436 449 964 \n",
      "  totals to:  3716\n",
      "664 842 423 411 \n",
      "  totals to:  2340\n",
      "940 430 939 \n",
      "  totals to:  2309\n",
      "876 816 629 72 \n",
      "  totals to:  2393\n",
      "8 459 549 427 504 \n",
      "  totals to:  1947\n",
      "248 51 832 569 432 982 382 \n",
      "  totals to:  3496\n",
      "946 393 \n",
      "  totals to:  1339\n",
      "418 202 690 362 221 590 \n",
      "  totals to:  2483\n",
      "792 524 39 872 \n",
      "  totals to:  2227\n",
      "43 864 639 331 260 110 811 391 \n",
      "  totals to:  3449\n",
      "131 694 87 21 \n",
      "  totals to:  933\n",
      "856 440 489 532 330 482 206 \n",
      "  totals to:  3335\n",
      "427 775 421 148 944 \n",
      "  totals to:  2715\n",
      "280 26 541 859 116 \n",
      "  totals to:  1822\n",
      "626 135 1 621 390 668 163 \n",
      "  totals to:  2604\n",
      "975 943 \n",
      "  totals to:  1918\n",
      "138 720 792 \n",
      "  totals to:  1650\n",
      "222 251 923 \n",
      "  totals to:  1396\n",
      "612 556 635 667 938 669 536 731 \n",
      "  totals to:  5344\n",
      "883 825 605 212 509 544 42 176 \n",
      "  totals to:  3796\n",
      "63 737 263 658 905 111 723 \n",
      "  totals to:  3460\n",
      "476 401 636 477 145 \n",
      "  totals to:  2135\n",
      "70 618 335 318 969 36 867 \n",
      "  totals to:  3213\n",
      "137 978 794 481 191 \n",
      "  totals to:  2581\n",
      "642 383 968 977 818 486 905 \n",
      "  totals to:  5179\n",
      "866 884 430 439 149 406 887 840 \n",
      "  totals to:  4901\n",
      "520 536 571 727 425 \n",
      "  totals to:  2779\n",
      "744 646 37 192 489 \n",
      "  totals to:  2108\n",
      "13 111 649 628 196 \n",
      "  totals to:  1597\n",
      "988 699 690 305 905 \n",
      "  totals to:  3587\n",
      "481 467 \n",
      "  totals to:  948\n"
     ]
    }
   ],
   "source": [
    "with open('random_numbers.txt', 'r') as f:\n",
    "    # We don't necessarily know how long the file is, but we can still use a for loop:\n",
    "    for line in f:   # reads ONLY ONE line from the file, and stops when hits end of file.\n",
    "        values_on_line = line.split()  # Split string at spaces into list of \"words\" which are number strings.\n",
    "        line_total = 0  # initialize to zero\n",
    "        \n",
    "        for value in values_on_line:\n",
    "            # check if it's convertible to an integer as expected:\n",
    "            try:\n",
    "                n = int(value)\n",
    "            except ValueError:\n",
    "                print('WARNING: ignoring invalid non-integer value found:', value)\n",
    "                n = 0 \n",
    "            line_total += n  # accumulate the line total\n",
    "        print(line, ' totals to: ', line_total)  # output the line total"
   ]
  },
  {
   "cell_type": "markdown",
   "metadata": {},
   "source": [
    "## Exception Handling / error-checking\n",
    "That code above worked properly, but it could be more robust. In other words, it doesn't have complete error-checking. For example, what if the file doesn't exist or can't be opened?  We'll look at that in PyCharm...\n"
   ]
  },
  {
   "cell_type": "markdown",
   "metadata": {},
   "source": [
    "## Debugging\n",
    "Debugging is arguably either limited or complicated in Jupyter Notebooks, depending on your point of view. Let's have a look at the stepping debugger tools in PyCharm..."
   ]
  }
 ],
 "metadata": {
  "kernelspec": {
   "display_name": "Python 3",
   "language": "python",
   "name": "python3"
  },
  "language_info": {
   "codemirror_mode": {
    "name": "ipython",
    "version": 3
   },
   "file_extension": ".py",
   "mimetype": "text/x-python",
   "name": "python",
   "nbconvert_exporter": "python",
   "pygments_lexer": "ipython3",
   "version": "3.6.5"
  }
 },
 "nbformat": 4,
 "nbformat_minor": 1
}
