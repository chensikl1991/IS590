{
 "cells": [
  {
   "cell_type": "markdown",
   "metadata": {},
   "source": [
    "# Class 3 on Python\n",
    "## Topics include:\n",
    "* Custom functions, with optional named parameters, default values\n",
    "* Docstrings in functions\n",
    "* Annotations vs Forcing Type-checking \n",
    "* Installing packages & some calculations needed for hurricane tracking.\n",
    "* Lambda functions intro (show using for custom sort)\n",
    "* First-class functions & Closures"
   ]
  },
  {
   "cell_type": "markdown",
   "metadata": {},
   "source": [
    "# Scoping \n",
    "Make sure you understand the basics of variable scope so you write proper code."
   ]
  },
  {
   "cell_type": "code",
   "execution_count": 1,
   "metadata": {},
   "outputs": [
    {
     "name": "stdout",
     "output_type": "stream",
     "text": [
      "the result is 8.625\n"
     ]
    }
   ],
   "source": [
    "# This code is syntactically valid Python and works. So what's wrong with it?  \n",
    "# Why does it matter?  How do we fix it properly?  \n",
    "\n",
    "my_list = [1, 5, 8, 9, 12, 18, 14, 2]\n",
    "\n",
    "def compute_mean():\n",
    "    total = sum(my_list)\n",
    "    num_items = len(my_list)\n",
    "    global mean\n",
    "    mean = total / num_items\n",
    "\n",
    "compute_mean()\n",
    "\n",
    "print('the result is', mean)"
   ]
  },
  {
   "cell_type": "markdown",
   "metadata": {},
   "source": [
    "The problems are in the use of variables `my_list` and `mean`.  The function should not be accessing (and potentially modifying) the `my_list` variable because it isn't local.  Doing that makes compute_mean() a non-deterministic or unpredictable function when it should be deterministic.  Also, what would happen if code outside the function were trying to use the variable called `mean` for something else?  It would cause a bug when it changes too."
   ]
  },
  {
   "cell_type": "code",
   "execution_count": 2,
   "metadata": {},
   "outputs": [
    {
     "name": "stdout",
     "output_type": "stream",
     "text": [
      "the result is 8.625\n"
     ]
    }
   ],
   "source": [
    "# This code is a much better version of the above, following best-practices for accessing variables \n",
    "# within their scope by using parameters and return values, and not defining a global within a function.\n",
    "\n",
    "my_list = [1, 5, 8, 9, 12, 18, 14, 2]\n",
    "\n",
    "def compute_mean(some_list):\n",
    "    total = sum(some_list)\n",
    "    num_items = len(some_list)\n",
    "    return total / num_items\n",
    "\n",
    "mean = compute_mean(my_list)\n",
    "\n",
    "print('the result is', mean)\n"
   ]
  },
  {
   "cell_type": "markdown",
   "metadata": {},
   "source": [
    "## Custom Functions\n",
    "Defining new functions in Python is generally straightforward.  \n",
    "\n",
    "Parameters must be defined, but because of dynamic typing, we aren't *required* to specify data types.  But as we'll see, there are some advantages and multiple ways to do so."
   ]
  },
  {
   "cell_type": "code",
   "execution_count": 3,
   "metadata": {},
   "outputs": [],
   "source": [
    "def print_multiple_times(string, number_of_reps):\n",
    "    for i in range(number_of_reps):\n",
    "        print(string)"
   ]
  },
  {
   "cell_type": "code",
   "execution_count": 4,
   "metadata": {},
   "outputs": [
    {
     "name": "stdout",
     "output_type": "stream",
     "text": [
      "abcdefg\n",
      "abcdefg\n",
      "abcdefg\n",
      "Welcome!\n",
      "Welcome!\n"
     ]
    }
   ],
   "source": [
    "print_multiple_times('abcdefg', 3)\n",
    "print_multiple_times('Welcome!', 2)"
   ]
  },
  {
   "cell_type": "markdown",
   "metadata": {},
   "source": [
    "In the previous example, which works reasonably, notice that we have 2 REQUIRED parameters, and there's no explicit *return* keyword, so the function always returns the pseudo-value *None*.\n",
    "\n",
    "But there are some things we can easily do to improve this simple function's re-usability and clarity.  For example, suppose that after using it a while in real coding, we discover that we most-often use it to print something twice.  So we decide to make the *number_of_reps* optional, with a default value of 2, and *refactor* by creating a new function name as a convenient wrapper.  Why did I use return here?  And why did I call the other function instead of just copying its innards?"
   ]
  },
  {
   "cell_type": "code",
   "execution_count": 5,
   "metadata": {},
   "outputs": [],
   "source": [
    "def print_again(string, number_of_reps=2):\n",
    "    return print_multiple_times(string, number_of_reps)"
   ]
  },
  {
   "cell_type": "code",
   "execution_count": 6,
   "metadata": {},
   "outputs": [
    {
     "name": "stdout",
     "output_type": "stream",
     "text": [
      "Hurray!\n",
      "Hurray!\n",
      "Hurray!\n"
     ]
    }
   ],
   "source": [
    "print_again(number_of_reps=3, string='Hurray!')"
   ]
  },
  {
   "cell_type": "markdown",
   "metadata": {},
   "source": [
    "# Docstrings\n",
    "Next, our co-workers who have been trying to use functions we wrote in their own programs, complain that there's no documentation on the API like he finds with the standard library functions.  We can fix that easily by adding Docstrings to our functions, modules, and classes.  PyCharm will even automatically create the format for us.  You'll also want to work in PyCharm instead of Jupyter Notebooks to fully benefit from autocompletion and inline documentation."
   ]
  },
  {
   "cell_type": "code",
   "execution_count": 7,
   "metadata": {},
   "outputs": [],
   "source": [
    "def print_again(string, number_of_reps=2):\n",
    "    \"\"\"Prints a given string, the specified number of times.\n",
    "    \n",
    "    :param string: The string to print\n",
    "    :param number_of_reps: How many times to print the string (default=2)\n",
    "    :returns: None\n",
    "    \"\"\"\n",
    "    return print_multiple_times(string, number_of_reps)"
   ]
  },
  {
   "cell_type": "code",
   "execution_count": 8,
   "metadata": {},
   "outputs": [],
   "source": [
    "print_again?"
   ]
  },
  {
   "cell_type": "code",
   "execution_count": 9,
   "metadata": {},
   "outputs": [
    {
     "name": "stdout",
     "output_type": "stream",
     "text": [
      "Echo!\n",
      "Echo!\n",
      "Echo!\n",
      "Who's there?\n",
      "Who's there?\n"
     ]
    }
   ],
   "source": [
    "print_again('Echo!', 3)\n",
    "print_again(number_of_reps=2, string=\"Who's there?\")"
   ]
  },
  {
   "cell_type": "markdown",
   "metadata": {},
   "source": [
    "With the above function definition, PyCharm will assume that number_of_reps is supposed to be an integer and that the function should always return None.  But it doesn't actually know what data type the variable called \"string\" is.  As written, this function works fine when \"string\" is something else entirely. For example, let's see if it will work with a tuple of floats:"
   ]
  },
  {
   "cell_type": "code",
   "execution_count": 10,
   "metadata": {},
   "outputs": [
    {
     "name": "stdout",
     "output_type": "stream",
     "text": [
      "3.14159\n",
      "3.14159\n",
      "3.14159\n"
     ]
    }
   ],
   "source": [
    "print_again(3.14159, 3)"
   ]
  },
  {
   "cell_type": "markdown",
   "metadata": {},
   "source": [
    "It does work! Why?  Because we're passing the \"string\" variable through unmodified to the built-in print() function, and it can handle a wide variety of data types.\n",
    "\n",
    "# Type Annotations\n",
    "But suppose we want our function to be a lot more precise or cautious and only accept strings as the \"string\".  How can we do that in Python?  Let's try using an annotation to tell Python we expect a string there."
   ]
  },
  {
   "cell_type": "code",
   "execution_count": 11,
   "metadata": {},
   "outputs": [
    {
     "name": "stdout",
     "output_type": "stream",
     "text": [
      "('Nevermore!', 'said the Raven.')\n",
      "('Nevermore!', 'said the Raven.')\n",
      "[34.5, 82.0]\n",
      "[34.5, 82.0]\n",
      "[34.5, 82.0]\n",
      "[34.5, 82.0]\n"
     ]
    }
   ],
   "source": [
    "def print_string_again(string: str, number_of_reps=2):\n",
    "    \"\"\"Prints a given string, repeated a specified number of times, \n",
    "    and tries to make SURE it's a string.\n",
    "    \n",
    "    :param string: The string to print\n",
    "    :param number_of_reps: How many times to print the string (default=2)\n",
    "    :returns: None\n",
    "    \"\"\"\n",
    "    return print_multiple_times(string, number_of_reps)\n",
    "        \n",
    "print_string_again(('Nevermore!', 'said the Raven.'))\n",
    "print_string_again([34.5, 82.0], 4)"
   ]
  },
  {
   "cell_type": "markdown",
   "metadata": {},
   "source": [
    "Well, clearly that type assertion didn't do what you might expect.  Unlike Java or C, it DOES NOT enforce the data type of the parameter!  So what good is annotation?  **Go back to PyCharm and try the popup documentation key and using autocomplete on that parameter to see.**\n",
    "\n",
    "Or in Jupyter Notebooks or other IPython environments, invoke the documentation like this, which will show in a popup-window:"
   ]
  },
  {
   "cell_type": "code",
   "execution_count": 12,
   "metadata": {},
   "outputs": [],
   "source": [
    "print_string_again?"
   ]
  },
  {
   "cell_type": "markdown",
   "metadata": {},
   "source": [
    "# Type Checking\n",
    "Most of the time in Python we want the flexibility and low overhead of dynamic typing. **Only if we really need to enforce it**, we can do so explictly in several ways, such as this for example:"
   ]
  },
  {
   "cell_type": "code",
   "execution_count": 13,
   "metadata": {},
   "outputs": [],
   "source": [
    "def print_string_again(string='Hurrah!', number_of_reps=2):\n",
    "    \"\"\"Prints a given string, the specified number of times, and \n",
    "    tries to make SURE it's a string.\n",
    "    \n",
    "    :param string: The string to print\n",
    "    :param number_of_reps: How many times to print the string (default=2)\n",
    "    :returns: None\n",
    "    \"\"\"\n",
    "    # notice that str following here is NOT in quotes. str is the symbol for \n",
    "    # the actual string class in Python.\n",
    "    if not isinstance(string, str):  \n",
    "        raise ValueError('parameter \"string\" should be a str type (or a subclass).')\n",
    "    return print_multiple_times(string, number_of_reps)\n"
   ]
  },
  {
   "cell_type": "code",
   "execution_count": 14,
   "metadata": {},
   "outputs": [
    {
     "name": "stdout",
     "output_type": "stream",
     "text": [
      "Something else\n",
      "Something else\n",
      "Something else\n"
     ]
    }
   ],
   "source": [
    "print_string_again('Something else', 3)"
   ]
  },
  {
   "cell_type": "code",
   "execution_count": 15,
   "metadata": {},
   "outputs": [
    {
     "ename": "ValueError",
     "evalue": "parameter \"string\" should be a str type (or a subclass).",
     "output_type": "error",
     "traceback": [
      "\u001b[0;31m---------------------------------------------------------------------------\u001b[0m",
      "\u001b[0;31mValueError\u001b[0m                                Traceback (most recent call last)",
      "\u001b[0;32m<ipython-input-15-a5f6dd96453a>\u001b[0m in \u001b[0;36m<module>\u001b[0;34m()\u001b[0m\n\u001b[0;32m----> 1\u001b[0;31m \u001b[0mprint_string_again\u001b[0m\u001b[0;34m(\u001b[0m\u001b[0;34m[\u001b[0m\u001b[0;34m\"This doesn't work with a list.\"\u001b[0m\u001b[0;34m]\u001b[0m\u001b[0;34m)\u001b[0m\u001b[0;34m\u001b[0m\u001b[0m\n\u001b[0m",
      "\u001b[0;32m<ipython-input-13-fd72e0a17fb8>\u001b[0m in \u001b[0;36mprint_string_again\u001b[0;34m(string, number_of_reps)\u001b[0m\n\u001b[1;32m     10\u001b[0m     \u001b[0;31m# the actual string class in Python.\u001b[0m\u001b[0;34m\u001b[0m\u001b[0;34m\u001b[0m\u001b[0m\n\u001b[1;32m     11\u001b[0m     \u001b[0;32mif\u001b[0m \u001b[0;32mnot\u001b[0m \u001b[0misinstance\u001b[0m\u001b[0;34m(\u001b[0m\u001b[0mstring\u001b[0m\u001b[0;34m,\u001b[0m \u001b[0mstr\u001b[0m\u001b[0;34m)\u001b[0m\u001b[0;34m:\u001b[0m\u001b[0;34m\u001b[0m\u001b[0m\n\u001b[0;32m---> 12\u001b[0;31m         \u001b[0;32mraise\u001b[0m \u001b[0mValueError\u001b[0m\u001b[0;34m(\u001b[0m\u001b[0;34m'parameter \"string\" should be a str type (or a subclass).'\u001b[0m\u001b[0;34m)\u001b[0m\u001b[0;34m\u001b[0m\u001b[0m\n\u001b[0m\u001b[1;32m     13\u001b[0m     \u001b[0;32mreturn\u001b[0m \u001b[0mprint_multiple_times\u001b[0m\u001b[0;34m(\u001b[0m\u001b[0mstring\u001b[0m\u001b[0;34m,\u001b[0m \u001b[0mnumber_of_reps\u001b[0m\u001b[0;34m)\u001b[0m\u001b[0;34m\u001b[0m\u001b[0m\n",
      "\u001b[0;31mValueError\u001b[0m: parameter \"string\" should be a str type (or a subclass)."
     ]
    }
   ],
   "source": [
    "print_string_again([\"This doesn't work with a list.\"])"
   ]
  },
  {
   "cell_type": "markdown",
   "metadata": {},
   "source": [
    "If we want to catch the exception our function can raise, you'd do it like this:"
   ]
  },
  {
   "cell_type": "code",
   "execution_count": 16,
   "metadata": {},
   "outputs": [
    {
     "name": "stdout",
     "output_type": "stream",
     "text": [
      "That was NOT a string.\n"
     ]
    }
   ],
   "source": [
    "try:\n",
    "    print_string_again(('Nevermore!', 'said the Raven.'))\n",
    "except ValueError:\n",
    "    print('That was NOT a string.')"
   ]
  },
  {
   "cell_type": "markdown",
   "metadata": {},
   "source": [
    "### Return values in functions\n",
    "Here's a very simple example of a function with return values:"
   ]
  },
  {
   "cell_type": "code",
   "execution_count": 17,
   "metadata": {},
   "outputs": [],
   "source": [
    "def add(a, b):\n",
    "    \"\"\"Add two values together.  Note that with dynamic data typing, it works properly\n",
    "    for numbers, strings, and even lists, etc.  Any data types that support the '+' operator\n",
    "    will work.\n",
    "    \n",
    "    :param a: first value\n",
    "    :param b: second value\n",
    "    :return: the result after 'adding' the values a & b.\"\"\"\n",
    "    return a + b"
   ]
  },
  {
   "cell_type": "code",
   "execution_count": 18,
   "metadata": {},
   "outputs": [
    {
     "name": "stdout",
     "output_type": "stream",
     "text": [
      "answer = 12.19\n"
     ]
    }
   ],
   "source": [
    "print('answer = {:.2f}'.format(add(5.2, 6.99)))"
   ]
  },
  {
   "cell_type": "code",
   "execution_count": 19,
   "metadata": {},
   "outputs": [
    {
     "data": {
      "text/plain": [
       "12.2"
      ]
     },
     "execution_count": 19,
     "metadata": {},
     "output_type": "execute_result"
    }
   ],
   "source": [
    "round(12.19, 1)\n"
   ]
  },
  {
   "cell_type": "code",
   "execution_count": 20,
   "metadata": {},
   "outputs": [
    {
     "ename": "TypeError",
     "evalue": "unsupported operand type(s) for +: 'int' and 'str'",
     "output_type": "error",
     "traceback": [
      "\u001b[0;31m---------------------------------------------------------------------------\u001b[0m",
      "\u001b[0;31mTypeError\u001b[0m                                 Traceback (most recent call last)",
      "\u001b[0;32m<ipython-input-20-e649cfbd9855>\u001b[0m in \u001b[0;36m<module>\u001b[0;34m()\u001b[0m\n\u001b[0;32m----> 1\u001b[0;31m \u001b[0madd\u001b[0m\u001b[0;34m(\u001b[0m\u001b[0;36m4\u001b[0m\u001b[0;34m,\u001b[0m \u001b[0;34m'Apple'\u001b[0m\u001b[0;34m)\u001b[0m   \u001b[0;31m#  Is this going to crash?\u001b[0m\u001b[0;34m\u001b[0m\u001b[0m\n\u001b[0m",
      "\u001b[0;32m<ipython-input-17-e6e67ba6e230>\u001b[0m in \u001b[0;36madd\u001b[0;34m(a, b)\u001b[0m\n\u001b[1;32m      7\u001b[0m     \u001b[0;34m:\u001b[0m\u001b[0mparam\u001b[0m \u001b[0mb\u001b[0m\u001b[0;34m:\u001b[0m \u001b[0msecond\u001b[0m \u001b[0mvalue\u001b[0m\u001b[0;34m\u001b[0m\u001b[0m\n\u001b[1;32m      8\u001b[0m     :return: the result after 'adding' the values a & b.\"\"\"\n\u001b[0;32m----> 9\u001b[0;31m     \u001b[0;32mreturn\u001b[0m \u001b[0ma\u001b[0m \u001b[0;34m+\u001b[0m \u001b[0mb\u001b[0m\u001b[0;34m\u001b[0m\u001b[0m\n\u001b[0m",
      "\u001b[0;31mTypeError\u001b[0m: unsupported operand type(s) for +: 'int' and 'str'"
     ]
    }
   ],
   "source": [
    "add(4, 'Apple')   #  Is this going to crash?"
   ]
  },
  {
   "cell_type": "code",
   "execution_count": 21,
   "metadata": {},
   "outputs": [
    {
     "data": {
      "text/plain": [
       "['a', 'b', 'c']"
      ]
     },
     "execution_count": 21,
     "metadata": {},
     "output_type": "execute_result"
    }
   ],
   "source": [
    "add(['a', 'b'], ['c'])"
   ]
  },
  {
   "cell_type": "markdown",
   "metadata": {},
   "source": [
    "# Latitude/Longitude computations\n",
    "\n",
    "First, install the PyGeodesy module, as follows:"
   ]
  },
  {
   "cell_type": "markdown",
   "metadata": {},
   "source": [
    "## This package isn't available from Anaconda, so we get it from pip\n",
    "\n",
    "Run this command in your Anaconda Prompt or in the \"Terminal\" prompt launched from PyCharm:\n",
    "\n",
    "`pip install pygeodesy` "
   ]
  },
  {
   "cell_type": "code",
   "execution_count": 22,
   "metadata": {},
   "outputs": [
    {
     "name": "stdout",
     "output_type": "stream",
     "text": [
      "(110574.38855804392, 0.0, 0.0)\n",
      "(111319.49079331082, 270.0, 270.0)\n",
      "(156899.5682914189, 314.8119597706482, 314.8032326783622)\n",
      "(156899.5682914189, 45.18804022935184, 45.19676732163782)\n"
     ]
    }
   ],
   "source": [
    "from pygeodesy import ellipsoidalVincenty as ev\n",
    "a = ev.LatLon('0.0N', '0.0W')\n",
    "b = ev.LatLon('1.0N', '0.0W')\n",
    "c = ev.LatLon('0.0N', '1.0W')\n",
    "d = ev.LatLon('1.0N', '1.0W')\n",
    "\n",
    "# Do some sanity checks to make sure we understand bearings and how this function works:\n",
    "print(a.distanceTo3(b))   # This is moving straight NORTH, 0 degrees\n",
    "print(a.distanceTo3(c))   # This is moving straight WEST, 270 degrees\n",
    "print(a.distanceTo3(d))   # This is moving NORTHWEST, 314.8 degrees\n",
    "print(c.distanceTo3(b))   # This is moving NORTHEAST, 45.1 degrees"
   ]
  },
  {
   "cell_type": "code",
   "execution_count": 23,
   "metadata": {},
   "outputs": [],
   "source": [
    "a.distanceTo3?"
   ]
  },
  {
   "cell_type": "code",
   "execution_count": 24,
   "metadata": {},
   "outputs": [
    {
     "name": "stdout",
     "output_type": "stream",
     "text": [
      "IRENE (2011) first moved 110.28 nm at initial heading of 303.02 deg.\n"
     ]
    }
   ],
   "source": [
    "# Or the first two lines in the example for Hurricane Irene:\n",
    "#20110821, 0000,  , TS, 15.0N,  59.0W,  45, 1006,  105,    ... \n",
    "#20110821, 0600,  , TS, 16.0N,  60.6W,  45, 1006,  130,    ...\n",
    "a = ev.LatLon('15.0N', '59.0W')\n",
    "b = ev.LatLon('16.0N', '60.6W')\n",
    "\n",
    "meters = a.distanceTo(b)   # Calculate 'great circle' distance\n",
    "distance = meters / 1852.0  # Divide to convert meters into nautical miles\n",
    "bearing = a.bearingTo(b)\n",
    "print('IRENE (2011) first moved {:.2f} nm at initial heading of {:.2f} deg.'.format(distance, bearing))"
   ]
  },
  {
   "cell_type": "code",
   "execution_count": 25,
   "metadata": {},
   "outputs": [
    {
     "name": "stdout",
     "output_type": "stream",
     "text": [
      "IRENE (2011) later moved 73.37 nm at initial heading of 333.88 deg. at a speed of 12.23 kts\n"
     ]
    }
   ],
   "source": [
    "# Or for from later lines in the example for Hurricane Irene:\n",
    "#20110825, 1200,  , HU, 25.4N,  76.6W,  90,  950,  250,    ... \n",
    "#20110825, 1800,  , HU, 26.5N,  77.2W,  90,  946,  250,    ...\n",
    "a = ev.LatLon('25.4N', '76.6W')\n",
    "b = ev.LatLon('26.5N', '77.2W')\n",
    "\n",
    "meters = a.distanceTo(b)    # Calculate 'great circle' distance\n",
    "distance = meters / 1852.0  # Divide to convert meters into nautical miles\n",
    "bearing = a.bearingTo(b)\n",
    "knots = distance / 6        # nautical miles / hours = knots\n",
    "print('IRENE (2011) later moved {:.2f} nm at initial heading of {:.2f} deg. \\\n",
    "at a speed of {:.2f} kts'.format(distance, bearing, knots))"
   ]
  },
  {
   "cell_type": "code",
   "execution_count": 26,
   "metadata": {},
   "outputs": [
    {
     "name": "stdout",
     "output_type": "stream",
     "text": [
      "IRENE (2011) later moved 65.82 nm at initial heading of 0.00 deg. at a speed of 10.97 kts\n"
     ]
    }
   ],
   "source": [
    "# Another sample from Hurricane Irene, where it's heading EXACTLY North:\n",
    "a = ev.LatLon('27.7N', '77.3W')\n",
    "b = ev.LatLon('28.8N', '77.3W')\n",
    "\n",
    "meters = a.distanceTo(b)    # Calculate 'great circle' distance\n",
    "distance = meters / 1852.0  # Divide to convert meters into nautical miles\n",
    "bearing = a.bearingTo(b)\n",
    "knots = distance / 6        # nautical miles / hours = knots\n",
    "print('IRENE (2011) later moved {:.2f} nm at initial heading of {:.2f} deg. \\\n",
    "at a speed of {:.2f} kts'.format(distance, bearing, knots))"
   ]
  },
  {
   "cell_type": "markdown",
   "metadata": {},
   "source": [
    "# Coordinate Out of Range problems\n",
    "Note that with recent versions of the PyGeodesy library, the following points will cause an exception like this:\n",
    "\n",
    "dms.RangeError: -359.1 beyond -180 degrees\n",
    "\n",
    "Last semester we never encountered this problem because older versions, such as 17.9 would gladly accept those coordinates and work anyway. Now it's pickier. \n",
    "\n",
    "### Good news though...\n",
    "It appears that in the latest revision of the HURDAT2 data files, NHC have corrected the out-of-range longitude value so this workaround probably won't be necessary this semester."
   ]
  },
  {
   "cell_type": "code",
   "execution_count": 27,
   "metadata": {},
   "outputs": [
    {
     "ename": "RangeError",
     "evalue": "-359.1 beyond -180 degrees",
     "output_type": "error",
     "traceback": [
      "\u001b[0;31m---------------------------------------------------------------------------\u001b[0m",
      "\u001b[0;31mRangeError\u001b[0m                                Traceback (most recent call last)",
      "\u001b[0;32m<ipython-input-27-c4d2f7b6f1ff>\u001b[0m in \u001b[0;36m<module>\u001b[0;34m()\u001b[0m\n\u001b[0;32m----> 1\u001b[0;31m \u001b[0ma\u001b[0m \u001b[0;34m=\u001b[0m \u001b[0mev\u001b[0m\u001b[0;34m.\u001b[0m\u001b[0mLatLon\u001b[0m\u001b[0;34m(\u001b[0m\u001b[0;34m'43.2N'\u001b[0m\u001b[0;34m,\u001b[0m \u001b[0;34m'359.1W'\u001b[0m\u001b[0;34m)\u001b[0m\u001b[0;34m\u001b[0m\u001b[0m\n\u001b[0m\u001b[1;32m      2\u001b[0m \u001b[0mb\u001b[0m \u001b[0;34m=\u001b[0m \u001b[0mev\u001b[0m\u001b[0;34m.\u001b[0m\u001b[0mLatLon\u001b[0m\u001b[0;34m(\u001b[0m\u001b[0;34m'44.0N'\u001b[0m\u001b[0;34m,\u001b[0m \u001b[0;34m'358.4W'\u001b[0m\u001b[0;34m)\u001b[0m\u001b[0;34m\u001b[0m\u001b[0m\n\u001b[1;32m      3\u001b[0m \u001b[0;34m\u001b[0m\u001b[0m\n\u001b[1;32m      4\u001b[0m \u001b[0mmeters\u001b[0m \u001b[0;34m=\u001b[0m \u001b[0ma\u001b[0m\u001b[0;34m.\u001b[0m\u001b[0mdistanceTo\u001b[0m\u001b[0;34m(\u001b[0m\u001b[0mb\u001b[0m\u001b[0;34m)\u001b[0m    \u001b[0;31m# Calculate 'great circle' distance\u001b[0m\u001b[0;34m\u001b[0m\u001b[0m\n\u001b[1;32m      5\u001b[0m \u001b[0mdistance\u001b[0m \u001b[0;34m=\u001b[0m \u001b[0mmeters\u001b[0m \u001b[0;34m/\u001b[0m \u001b[0;36m1852.0\u001b[0m  \u001b[0;31m# Divide to convert meters into nautical miles\u001b[0m\u001b[0;34m\u001b[0m\u001b[0m\n",
      "\u001b[0;32m/anaconda/lib/python3.6/site-packages/pygeodesy/ellipsoidalBase.py\u001b[0m in \u001b[0;36m__init__\u001b[0;34m(self, lat, lon, height, datum, name)\u001b[0m\n\u001b[1;32m    148\u001b[0m            \u001b[0;34m>>\u001b[0m\u001b[0;34m>\u001b[0m \u001b[0mp\u001b[0m \u001b[0;34m=\u001b[0m \u001b[0mLatLon\u001b[0m\u001b[0;34m(\u001b[0m\u001b[0;36m51.4778\u001b[0m\u001b[0;34m,\u001b[0m \u001b[0;34m-\u001b[0m\u001b[0;36m0.0016\u001b[0m\u001b[0;34m)\u001b[0m  \u001b[0;31m# height=0, datum=Datums.WGS84\u001b[0m\u001b[0;34m\u001b[0m\u001b[0m\n\u001b[1;32m    149\u001b[0m         '''\n\u001b[0;32m--> 150\u001b[0;31m         \u001b[0mLatLonHeightBase\u001b[0m\u001b[0;34m.\u001b[0m\u001b[0m__init__\u001b[0m\u001b[0;34m(\u001b[0m\u001b[0mself\u001b[0m\u001b[0;34m,\u001b[0m \u001b[0mlat\u001b[0m\u001b[0;34m,\u001b[0m \u001b[0mlon\u001b[0m\u001b[0;34m,\u001b[0m \u001b[0mheight\u001b[0m\u001b[0;34m=\u001b[0m\u001b[0mheight\u001b[0m\u001b[0;34m,\u001b[0m \u001b[0mname\u001b[0m\u001b[0;34m=\u001b[0m\u001b[0mname\u001b[0m\u001b[0;34m)\u001b[0m\u001b[0;34m\u001b[0m\u001b[0m\n\u001b[0m\u001b[1;32m    151\u001b[0m         \u001b[0;32mif\u001b[0m \u001b[0mdatum\u001b[0m\u001b[0;34m:\u001b[0m  \u001b[0;31m# check datum\u001b[0m\u001b[0;34m\u001b[0m\u001b[0m\n\u001b[1;32m    152\u001b[0m             \u001b[0mself\u001b[0m\u001b[0;34m.\u001b[0m\u001b[0mdatum\u001b[0m \u001b[0;34m=\u001b[0m \u001b[0mdatum\u001b[0m\u001b[0;34m\u001b[0m\u001b[0m\n",
      "\u001b[0;32m/anaconda/lib/python3.6/site-packages/pygeodesy/bases.py\u001b[0m in \u001b[0;36m__init__\u001b[0;34m(self, lat, lon, height, name)\u001b[0m\n\u001b[1;32m    177\u001b[0m            \u001b[0;34m>>\u001b[0m\u001b[0;34m>\u001b[0m \u001b[0mq\u001b[0m \u001b[0;34m=\u001b[0m \u001b[0mLatLon\u001b[0m\u001b[0;34m(\u001b[0m\u001b[0;34m'50°03′59″N'\u001b[0m\u001b[0;34m,\u001b[0m \u001b[0;34m\"\"\"005°42'53\"W\"\"\"\u001b[0m\u001b[0;34m)\u001b[0m\u001b[0;34m\u001b[0m\u001b[0m\n\u001b[1;32m    178\u001b[0m         '''\n\u001b[0;32m--> 179\u001b[0;31m         \u001b[0mself\u001b[0m\u001b[0;34m.\u001b[0m\u001b[0m_lat\u001b[0m\u001b[0;34m,\u001b[0m \u001b[0mself\u001b[0m\u001b[0;34m.\u001b[0m\u001b[0m_lon\u001b[0m \u001b[0;34m=\u001b[0m \u001b[0mparseDMS2\u001b[0m\u001b[0;34m(\u001b[0m\u001b[0mlat\u001b[0m\u001b[0;34m,\u001b[0m \u001b[0mlon\u001b[0m\u001b[0;34m)\u001b[0m\u001b[0;34m\u001b[0m\u001b[0m\n\u001b[0m\u001b[1;32m    180\u001b[0m         \u001b[0;32mif\u001b[0m \u001b[0mheight\u001b[0m\u001b[0;34m:\u001b[0m  \u001b[0;31m# elevation\u001b[0m\u001b[0;34m\u001b[0m\u001b[0m\n\u001b[1;32m    181\u001b[0m             \u001b[0mself\u001b[0m\u001b[0;34m.\u001b[0m\u001b[0m_height\u001b[0m \u001b[0;34m=\u001b[0m \u001b[0mscalar\u001b[0m\u001b[0;34m(\u001b[0m\u001b[0mheight\u001b[0m\u001b[0;34m,\u001b[0m \u001b[0;32mNone\u001b[0m\u001b[0;34m,\u001b[0m \u001b[0mname\u001b[0m\u001b[0;34m=\u001b[0m\u001b[0;34m'height'\u001b[0m\u001b[0;34m)\u001b[0m\u001b[0;34m\u001b[0m\u001b[0m\n",
      "\u001b[0;32m/anaconda/lib/python3.6/site-packages/pygeodesy/dms.py\u001b[0m in \u001b[0;36mparseDMS2\u001b[0;34m(strLat, strLon, sep, clipLat, clipLon)\u001b[0m\n\u001b[1;32m    428\u001b[0m     '''\n\u001b[1;32m    429\u001b[0m     return (parseDMS(strLat, suffix='NS', sep=sep, clip=clipLat),\n\u001b[0;32m--> 430\u001b[0;31m             parseDMS(strLon, suffix='EW', sep=sep, clip=clipLon))\n\u001b[0m\u001b[1;32m    431\u001b[0m \u001b[0;34m\u001b[0m\u001b[0m\n\u001b[1;32m    432\u001b[0m \u001b[0;34m\u001b[0m\u001b[0m\n",
      "\u001b[0;32m/anaconda/lib/python3.6/site-packages/pygeodesy/dms.py\u001b[0m in \u001b[0;36mparseDMS\u001b[0;34m(strDMS, suffix, sep, clip)\u001b[0m\n\u001b[1;32m    404\u001b[0m             \u001b[0;32mraise\u001b[0m \u001b[0mValueError\u001b[0m\u001b[0;34m(\u001b[0m\u001b[0;34m'parsing %r failed'\u001b[0m \u001b[0;34m%\u001b[0m \u001b[0;34m(\u001b[0m\u001b[0mstrDMS\u001b[0m\u001b[0;34m,\u001b[0m\u001b[0;34m)\u001b[0m\u001b[0;34m)\u001b[0m\u001b[0;34m\u001b[0m\u001b[0m\n\u001b[1;32m    405\u001b[0m \u001b[0;34m\u001b[0m\u001b[0m\n\u001b[0;32m--> 406\u001b[0;31m     \u001b[0;32mreturn\u001b[0m \u001b[0mclipDMS\u001b[0m\u001b[0;34m(\u001b[0m\u001b[0md\u001b[0m\u001b[0;34m,\u001b[0m \u001b[0mclip\u001b[0m\u001b[0;34m)\u001b[0m\u001b[0;34m\u001b[0m\u001b[0m\n\u001b[0m\u001b[1;32m    407\u001b[0m \u001b[0;34m\u001b[0m\u001b[0m\n\u001b[1;32m    408\u001b[0m \u001b[0;34m\u001b[0m\u001b[0m\n",
      "\u001b[0;32m/anaconda/lib/python3.6/site-packages/pygeodesy/dms.py\u001b[0m in \u001b[0;36mclipDMS\u001b[0;34m(deg, limit)\u001b[0m\n\u001b[1;32m    151\u001b[0m         \u001b[0;32mif\u001b[0m \u001b[0m_rangerrors\u001b[0m \u001b[0;32mand\u001b[0m \u001b[0mdeg\u001b[0m \u001b[0;34m!=\u001b[0m \u001b[0mc\u001b[0m\u001b[0;34m:\u001b[0m\u001b[0;34m\u001b[0m\u001b[0m\n\u001b[1;32m    152\u001b[0m             raise RangeError('%s beyond %s degrees' % (fStr(deg, prec=6),\n\u001b[0;32m--> 153\u001b[0;31m                              fStr(copysign(limit, deg), prec=3, ints=True)))\n\u001b[0m\u001b[1;32m    154\u001b[0m         \u001b[0mdeg\u001b[0m \u001b[0;34m=\u001b[0m \u001b[0mc\u001b[0m\u001b[0;34m\u001b[0m\u001b[0m\n\u001b[1;32m    155\u001b[0m     \u001b[0;32mreturn\u001b[0m \u001b[0mdeg\u001b[0m\u001b[0;34m\u001b[0m\u001b[0m\n",
      "\u001b[0;31mRangeError\u001b[0m: -359.1 beyond -180 degrees"
     ]
    }
   ],
   "source": [
    "a = ev.LatLon('43.2N', '359.1W')\n",
    "b = ev.LatLon('44.0N', '358.4W')\n",
    "\n",
    "meters = a.distanceTo(b)    # Calculate 'great circle' distance\n",
    "distance = meters / 1852.0  # Divide to convert meters into nautical miles\n",
    "bearing = a.bearingTo(b)\n",
    "knots = distance / 6        # nautical miles / hours = knots\n",
    "print('AL051952 later moved {:.2f} nm at initial heading of {:.2f} deg. \\\n",
    "at a speed of {:.2f} kts'.format(distance, bearing, knots))"
   ]
  },
  {
   "cell_type": "code",
   "execution_count": 28,
   "metadata": {},
   "outputs": [],
   "source": [
    "def flip_direction(direction: str) -> str:\n",
    "    \"\"\"Given a compass direction 'E', 'W', 'N', or 'S', return the opposite.\n",
    "    Raises exception with none of those.\n",
    "\n",
    "    :param direction: a string containing 'E', 'W', 'N', or 'S'\n",
    "    :return: a string containing 'E', 'W', 'N', or 'S'\n",
    "    \"\"\"\n",
    "    if direction == 'E':\n",
    "        return 'W'\n",
    "    elif direction == 'W':\n",
    "        return 'E'\n",
    "    elif direction == 'N':\n",
    "        return 'S'\n",
    "    elif direction == 'S':\n",
    "        return 'N'\n",
    "    else:\n",
    "        raise ValueError('Invalid or unsupported direction {} given.'.format(direction))\n",
    "        \n",
    "        \n",
    "def myLatLon(lat: str, lon: str):\n",
    "    \"\"\"Given a latitude and longitude, normalize them if necessary,\n",
    "    to return a valid ellipsoidalVincenty.LatLon object.\n",
    "\n",
    "    :param lat: the latitude as a string\n",
    "    :param lon: the longitude as a string\n",
    "    \"\"\"\n",
    "\n",
    "    # get number portion:\n",
    "    if lon[-1] in ['E', 'W']:\n",
    "        lon_num = float(lon[:-1])\n",
    "        lon_dir = lon[-1]\n",
    "    else:\n",
    "        lon_num = float(lon)\n",
    "    if lon_num > 180.0:  # Does longitude exceed range?\n",
    "        lon_num = 360.0 - lon_num\n",
    "        lon_dir = flip_direction(lon_dir)\n",
    "        lon = str(lon_num) + lon_dir\n",
    "\n",
    "    return ev.LatLon(lat, lon)"
   ]
  },
  {
   "cell_type": "markdown",
   "metadata": {},
   "source": [
    "Notice below how my wrapper function `myLatLon()` correctly handles the same out-of-range values that crashed above."
   ]
  },
  {
   "cell_type": "code",
   "execution_count": 29,
   "metadata": {},
   "outputs": [
    {
     "name": "stdout",
     "output_type": "stream",
     "text": [
      "AL051952 later moved 56.87 nm at initial heading of 32.21 deg. at a speed of 9.48 kts\n"
     ]
    }
   ],
   "source": [
    "a = myLatLon('43.2N', '359.1W')\n",
    "b = myLatLon('44.0N', '358.4W')\n",
    "\n",
    "meters = a.distanceTo(b)    # Calculate 'great circle' distance\n",
    "distance = meters / 1852.0  # Divide to convert meters into nautical miles\n",
    "bearing = a.bearingTo(b)\n",
    "knots = distance / 6        # nautical miles / hours = knots\n",
    "print('AL051952 later moved {:.2f} nm at initial heading of {:.2f} deg. \\\n",
    "at a speed of {:.2f} kts'.format(distance, bearing, knots))"
   ]
  },
  {
   "cell_type": "markdown",
   "metadata": {
    "collapsed": true
   },
   "source": [
    "# Lambda functions\n",
    "Lambda functions can seem a bizarre or abstract concept. It is related to both \"first-class functions\" and \"anonymous functions\", which are capabilities of many languages including Python.\n",
    "\n",
    "# Anonymous functions\n",
    "Often, they are just a short function that is used only once, so that we don't even feel like giving them a name. Thus you'll also see the phrase \"anonymous function\" used in this situation.  It's helpful to understand that you can always write equivalent code where the function *does* have a name.  There's an example both ways below.\n",
    "\n",
    "There are a few situations in Python where we occasionally want to use a temporary function, but the most likely place you'll see other coders do it is for customized sorting."
   ]
  },
  {
   "cell_type": "code",
   "execution_count": 30,
   "metadata": {},
   "outputs": [
    {
     "data": {
      "text/plain": [
       "[(1, 'Joe'),\n",
       " (2, 'Adam'),\n",
       " (2, 'James'),\n",
       " (3, 'Alberta'),\n",
       " (4, 'Francine'),\n",
       " (5, 'Smith'),\n",
       " (7, 'Charles'),\n",
       " (10, 'Charles')]"
      ]
     },
     "execution_count": 30,
     "metadata": {},
     "output_type": "execute_result"
    }
   ],
   "source": [
    "list_of_tuples = [(1, 'Joe'),\n",
    "                  (2, 'James'),\n",
    "                  (5, 'Smith'),\n",
    "                  (10, 'Charles'),\n",
    "                  (3, 'Alberta'),\n",
    "                  (4, 'Francine'),\n",
    "                  (2, 'Adam'),\n",
    "                  (7, 'Charles')]\n",
    "\n",
    "sorted(list_of_tuples)  # this produces the standard sort order"
   ]
  },
  {
   "cell_type": "markdown",
   "metadata": {},
   "source": [
    "Suppose we want to sort this structure by the *names* instead of the numbers. Notice the names are always in index position 1 instead of index zero.  The sorted() function lets us optionally provide a **function** as its *key=* parameter, and it will sort instead by whatever values the key function returns from each item.  So we could implement it like this:"
   ]
  },
  {
   "cell_type": "code",
   "execution_count": 31,
   "metadata": {},
   "outputs": [
    {
     "data": {
      "text/plain": [
       "'adam'"
      ]
     },
     "execution_count": 31,
     "metadata": {},
     "output_type": "execute_result"
    }
   ],
   "source": [
    "def get_name_from_tuple(t: tuple) -> str:\n",
    "    return t[1]\n",
    "\n",
    "get_name_from_tuple((2, 'adam'))"
   ]
  },
  {
   "cell_type": "code",
   "execution_count": 32,
   "metadata": {},
   "outputs": [],
   "source": [
    "sorted?"
   ]
  },
  {
   "cell_type": "code",
   "execution_count": 33,
   "metadata": {},
   "outputs": [
    {
     "data": {
      "text/plain": [
       "[(2, 'Adam'),\n",
       " (3, 'Alberta'),\n",
       " (10, 'Charles'),\n",
       " (7, 'Charles'),\n",
       " (4, 'Francine'),\n",
       " (2, 'James'),\n",
       " (1, 'Joe'),\n",
       " (5, 'Smith')]"
      ]
     },
     "execution_count": 33,
     "metadata": {},
     "output_type": "execute_result"
    }
   ],
   "source": [
    "sorted(list_of_tuples, key=get_name_from_tuple)"
   ]
  },
  {
   "cell_type": "code",
   "execution_count": 34,
   "metadata": {},
   "outputs": [
    {
     "data": {
      "text/plain": [
       "[(2, 'Adam'),\n",
       " (3, 'Alberta'),\n",
       " (10, 'Charles'),\n",
       " (7, 'Charles'),\n",
       " (4, 'Francine'),\n",
       " (2, 'James'),\n",
       " (1, 'Joe'),\n",
       " (5, 'Smith')]"
      ]
     },
     "execution_count": 34,
     "metadata": {},
     "output_type": "execute_result"
    }
   ],
   "source": [
    "sorted(list_of_tuples, key=lambda t: t[1])"
   ]
  },
  {
   "cell_type": "markdown",
   "metadata": {},
   "source": [
    "Once you untangle how that previous example is working, then you can see how the lambda expression is just a shortcut for the same idea.  This one is sorting FIRST by name, and then (if there are matching names) it will sub-sort by the number:"
   ]
  },
  {
   "cell_type": "markdown",
   "metadata": {},
   "source": [
    "So how to we make it sort FIRST by name, and then (if there are matching names -- like 'Charles') it will sub-sort by the number?"
   ]
  },
  {
   "cell_type": "code",
   "execution_count": 35,
   "metadata": {},
   "outputs": [
    {
     "data": {
      "text/plain": [
       "[(2, 'Adam'),\n",
       " (3, 'Alberta'),\n",
       " (7, 'Charles'),\n",
       " (10, 'Charles'),\n",
       " (4, 'Francine'),\n",
       " (2, 'James'),\n",
       " (1, 'Joe'),\n",
       " (5, 'Smith')]"
      ]
     },
     "execution_count": 35,
     "metadata": {},
     "output_type": "execute_result"
    }
   ],
   "source": [
    "sorted(list_of_tuples, key=lambda t: (t[1], t[0]) )"
   ]
  },
  {
   "cell_type": "code",
   "execution_count": 36,
   "metadata": {},
   "outputs": [
    {
     "data": {
      "text/plain": [
       "[[1, 'one', 'eins', 'uno'],\n",
       " [2, 'two', 'zwei', 'dos'],\n",
       " [3, 'three', 'drei', 'tres'],\n",
       " [4, 'four', 'vier', 'quatro'],\n",
       " [5, 'five', 'fünf', 'cinco'],\n",
       " [6, 'six', 'sechs', 'seis'],\n",
       " [7, 'seven', 'sieben', 'siete'],\n",
       " [8, 'eight', 'acht', 'ocho'],\n",
       " [9, 'nine', 'neun', 'nueve'],\n",
       " [10, 'ten', 'zehn', 'diez']]"
      ]
     },
     "execution_count": 36,
     "metadata": {},
     "output_type": "execute_result"
    }
   ],
   "source": [
    "# Numbers with their names in English, German, and Spanish:\n",
    "number_names = [[1, 'one',   'eins',   'uno'],\n",
    "                [2, 'two',   'zwei',   'dos'],\n",
    "                [3, 'three', 'drei',   'tres'],\n",
    "                [4, 'four',  'vier',   'quatro'],\n",
    "                [5, 'five',  'fünf',   'cinco'],\n",
    "                [6, 'six',   'sechs',  'seis'],\n",
    "                [7, 'seven', 'sieben', 'siete'],\n",
    "                [8, 'eight', 'acht',   'ocho'],\n",
    "                [9, 'nine',  'neun',   'nueve'],\n",
    "                [10, 'ten',  'zehn',   'diez']]\n",
    "\n",
    "sorted(number_names)"
   ]
  },
  {
   "cell_type": "markdown",
   "metadata": {},
   "source": [
    "If we want to sort these alphabetically by their English names, then like the previous example, we still want to use the item at index 1 as the key. "
   ]
  },
  {
   "cell_type": "code",
   "execution_count": 37,
   "metadata": {},
   "outputs": [
    {
     "data": {
      "text/plain": [
       "[[5, 'five', 'fünf', 'cinco'],\n",
       " [10, 'ten', 'zehn', 'diez'],\n",
       " [2, 'two', 'zwei', 'dos'],\n",
       " [9, 'nine', 'neun', 'nueve'],\n",
       " [8, 'eight', 'acht', 'ocho'],\n",
       " [4, 'four', 'vier', 'quatro'],\n",
       " [6, 'six', 'sechs', 'seis'],\n",
       " [7, 'seven', 'sieben', 'siete'],\n",
       " [3, 'three', 'drei', 'tres'],\n",
       " [1, 'one', 'eins', 'uno']]"
      ]
     },
     "execution_count": 37,
     "metadata": {},
     "output_type": "execute_result"
    }
   ],
   "source": [
    "sorted(number_names, key=lambda x: x[-1])"
   ]
  },
  {
   "cell_type": "markdown",
   "metadata": {},
   "source": [
    "How do we sort this in German?  Or Spanish?"
   ]
  },
  {
   "cell_type": "code",
   "execution_count": 38,
   "metadata": {},
   "outputs": [
    {
     "data": {
      "text/plain": [
       "[[8, 'eight', 'acht', 'ocho'],\n",
       " [3, 'three', 'drei', 'tres'],\n",
       " [1, 'one', 'eins', 'uno'],\n",
       " [5, 'five', 'fünf', 'cinco'],\n",
       " [9, 'nine', 'neun', 'nueve'],\n",
       " [6, 'six', 'sechs', 'seis'],\n",
       " [7, 'seven', 'sieben', 'siete'],\n",
       " [4, 'four', 'vier', 'quatro'],\n",
       " [10, 'ten', 'zehn', 'diez'],\n",
       " [2, 'two', 'zwei', 'dos']]"
      ]
     },
     "execution_count": 38,
     "metadata": {},
     "output_type": "execute_result"
    }
   ],
   "source": [
    "sorted(number_names, key=lambda x: x[2])"
   ]
  },
  {
   "cell_type": "markdown",
   "metadata": {},
   "source": [
    "# Another way to look at Lambda functions:"
   ]
  },
  {
   "cell_type": "code",
   "execution_count": 39,
   "metadata": {},
   "outputs": [
    {
     "name": "stdout",
     "output_type": "stream",
     "text": [
      "15\n",
      "120\n"
     ]
    }
   ],
   "source": [
    "triple = lambda x: x * 3\n",
    "\n",
    "print(triple(5))\n",
    "print(triple(40))"
   ]
  },
  {
   "cell_type": "code",
   "execution_count": 40,
   "metadata": {},
   "outputs": [
    {
     "name": "stdout",
     "output_type": "stream",
     "text": [
      "15\n",
      "120\n"
     ]
    }
   ],
   "source": [
    "# That did the same thing as defining a \"triple\" function normally like this:\n",
    "def triple(x):\n",
    "    return x * 3\n",
    "\n",
    "print(triple(5))\n",
    "print(triple(40))"
   ]
  },
  {
   "cell_type": "markdown",
   "metadata": {},
   "source": [
    "# First Class Functions & Closures\n",
    "The above examples work only because functions are themselves objects in Python, that we can use (like any other objects) as parameters to other functions and even return values, or store them in other objects. This is a feature of many advanced programming languages, and is formally called \"first class functions\".\n",
    "\n",
    "A **closure** is a more subtle concept.  It's where a function gets defined dynamically in a way that it depends on  variables outside its own scope at creation time. In the examples that follow, the variable `n` is _outside_ the scope of the lambda function we're creating. This only works because Python supports closures:"
   ]
  },
  {
   "cell_type": "code",
   "execution_count": 41,
   "metadata": {},
   "outputs": [
    {
     "name": "stdout",
     "output_type": "stream",
     "text": [
      "10 times 2 is 20\n",
      "9 times 3 is 27\n",
      "4 times 4 is 16\n"
     ]
    }
   ],
   "source": [
    "def multiplier_creator(n: int):\n",
    "    def new_function(x): \n",
    "        print(x, 'times', n, 'is', x * n)\n",
    "        \n",
    "    return new_function\n",
    "\n",
    "doubler = multiplier_creator(2)\n",
    "tripler = multiplier_creator(3)\n",
    "quadrupler = multiplier_creator(4)\n",
    "\n",
    "doubler(10)\n",
    "tripler(9)\n",
    "quadrupler(4)"
   ]
  },
  {
   "cell_type": "code",
   "execution_count": 42,
   "metadata": {},
   "outputs": [
    {
     "name": "stdout",
     "output_type": "stream",
     "text": [
      "Pizza times 4 is PizzaPizzaPizzaPizza\n"
     ]
    }
   ],
   "source": [
    "quadrupler('Pizza')"
   ]
  },
  {
   "cell_type": "markdown",
   "metadata": {},
   "source": [
    "To prove that the value of n only mattered at the moment we defined the lambda functions, see this experiment:"
   ]
  },
  {
   "cell_type": "code",
   "execution_count": 43,
   "metadata": {},
   "outputs": [
    {
     "name": "stdout",
     "output_type": "stream",
     "text": [
      "8 times 2 is 16\n"
     ]
    }
   ],
   "source": [
    "n = 42\n",
    "doubler(8)"
   ]
  },
  {
   "cell_type": "code",
   "execution_count": 44,
   "metadata": {},
   "outputs": [
    {
     "name": "stdout",
     "output_type": "stream",
     "text": [
      "15\n",
      "64\n",
      "27\n",
      "6\n"
     ]
    }
   ],
   "source": [
    "def expander_creator(n: int, operation='exponent'):\n",
    "    \"\"\"A more general function creator than multipler_creator(). \n",
    "    This returns either multiplication function or an exponential function.\n",
    "\n",
    "    :param n: the multiplier or exponent value to use\n",
    "    :param operation: one of a list of possible operations (default 'exponent')\n",
    "    :returns: a new function\n",
    "    \"\"\"\n",
    "    if operation == 'exponent' or operation is None:\n",
    "        return lambda x: x ** n\n",
    "    elif operation in ['multiply', 'times']:\n",
    "        return lambda x: x * n\n",
    "    elif operation in ['addition', 'add', 'plus']:\n",
    "        return lambda x: x + n\n",
    "    else:\n",
    "        raise ValueError('operation parameter was invalid: ', operation)\n",
    "    \n",
    "new_tripler = expander_creator(3, 'multiply')\n",
    "print(new_tripler(5))\n",
    "\n",
    "squarer = expander_creator(2, 'exponent')\n",
    "print(squarer(8))\n",
    "\n",
    "cuber = expander_creator(3)\n",
    "print(cuber(3))\n",
    "\n",
    "incrementer = expander_creator(1, 'add')\n",
    "print(incrementer(5))"
   ]
  }
 ],
 "metadata": {
  "kernelspec": {
   "display_name": "Python 3",
   "language": "python",
   "name": "python3"
  },
  "language_info": {
   "codemirror_mode": {
    "name": "ipython",
    "version": 3
   },
   "file_extension": ".py",
   "mimetype": "text/x-python",
   "name": "python",
   "nbconvert_exporter": "python",
   "pygments_lexer": "ipython3",
   "version": "3.6.6"
  }
 },
 "nbformat": 4,
 "nbformat_minor": 2
}
