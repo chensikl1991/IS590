{
 "cells": [
  {
   "cell_type": "markdown",
   "metadata": {},
   "source": [
    "# Numpy ndarrays"
   ]
  },
  {
   "cell_type": "code",
   "execution_count": 1,
   "metadata": {},
   "outputs": [],
   "source": [
    "import numpy as np"
   ]
  },
  {
   "cell_type": "code",
   "execution_count": 2,
   "metadata": {},
   "outputs": [],
   "source": [
    "# Create a sequential integer list and a Numpy NDArray of the same, for comparisons:\n",
    "\n",
    "a_list = list(range(10000000))\n",
    "b =  np.arange(10000000)"
   ]
  },
  {
   "cell_type": "code",
   "execution_count": 3,
   "metadata": {},
   "outputs": [
    {
     "data": {
      "text/plain": [
       "[0, 1, 2, 3, 4, 5, 6, 7, 8]"
      ]
     },
     "execution_count": 3,
     "metadata": {},
     "output_type": "execute_result"
    }
   ],
   "source": [
    "a_list[0:9]"
   ]
  },
  {
   "cell_type": "code",
   "execution_count": 4,
   "metadata": {},
   "outputs": [
    {
     "data": {
      "text/plain": [
       "array([0, 1, 2, 3, 4, 5, 6, 7, 8])"
      ]
     },
     "execution_count": 4,
     "metadata": {},
     "output_type": "execute_result"
    }
   ],
   "source": [
    "b[0:9]"
   ]
  },
  {
   "cell_type": "markdown",
   "metadata": {},
   "source": [
    "How do we multiply every value by two in standard Python lists?"
   ]
  },
  {
   "cell_type": "code",
   "execution_count": 5,
   "metadata": {},
   "outputs": [
    {
     "data": {
      "text/plain": [
       "[0, 2, 4, 6, 8, 10, 12, 14, 16]"
      ]
     },
     "execution_count": 5,
     "metadata": {},
     "output_type": "execute_result"
    }
   ],
   "source": [
    "def double():\n",
    "    for i in range(len(a_list)):\n",
    "        a_list[i] *= 2\n",
    "        \n",
    "double()\n",
    "a_list[0:9]"
   ]
  },
  {
   "cell_type": "markdown",
   "metadata": {},
   "source": [
    "## Code Review\n",
    "Is anything wrong with the double() function above?"
   ]
  },
  {
   "cell_type": "code",
   "execution_count": 6,
   "metadata": {},
   "outputs": [
    {
     "name": "stdout",
     "output_type": "stream",
     "text": [
      "1.05 s ± 45 ms per loop (mean ± std. dev. of 7 runs, 1 loop each)\n"
     ]
    }
   ],
   "source": [
    "%timeit double()   # find out how fast this operation is"
   ]
  },
  {
   "cell_type": "code",
   "execution_count": 7,
   "metadata": {},
   "outputs": [
    {
     "data": {
      "text/plain": [
       "[0, 512, 1024, 1536, 2048, 2560, 3072, 3584, 4096]"
      ]
     },
     "execution_count": 7,
     "metadata": {},
     "output_type": "execute_result"
    }
   ],
   "source": [
    "a_list[0:9]"
   ]
  },
  {
   "cell_type": "markdown",
   "metadata": {},
   "source": [
    "What went wrong with the data in the list above?\n"
   ]
  },
  {
   "cell_type": "markdown",
   "metadata": {},
   "source": [
    "## Vectorized computations\n",
    "The main reason to use Numpy is that most operations on matrices can be done in \"vectorized\" fashion.  That means we usually don't need to write loops to go through values in arrays/matrices, and operations will be implicity looped and performed by pre-compiled C code that is much faster."
   ]
  },
  {
   "cell_type": "code",
   "execution_count": 8,
   "metadata": {},
   "outputs": [
    {
     "data": {
      "text/plain": [
       "[0, 10, 3, 0, 10, 3]"
      ]
     },
     "execution_count": 8,
     "metadata": {},
     "output_type": "execute_result"
    }
   ],
   "source": [
    "# Attempt a vectorized calculation on a list\n",
    "[0, 10, 3] * 2\n"
   ]
  },
  {
   "cell_type": "code",
   "execution_count": 9,
   "metadata": {},
   "outputs": [
    {
     "data": {
      "text/plain": [
       "array([       0,        2,        4, ..., 19999994, 19999996, 19999998])"
      ]
     },
     "execution_count": 9,
     "metadata": {},
     "output_type": "execute_result"
    }
   ],
   "source": [
    "b * 2"
   ]
  },
  {
   "cell_type": "code",
   "execution_count": 10,
   "metadata": {
    "scrolled": false
   },
   "outputs": [
    {
     "name": "stdout",
     "output_type": "stream",
     "text": [
      "CPU times: user 8.65 ms, sys: 1.03 ms, total: 9.68 ms\n",
      "Wall time: 8.16 ms\n"
     ]
    }
   ],
   "source": [
    "# This is how to double every value in the b array using a vectorized multiplication operation:\n",
    "%time b *= 2"
   ]
  },
  {
   "cell_type": "code",
   "execution_count": 11,
   "metadata": {},
   "outputs": [
    {
     "data": {
      "text/plain": [
       "array([ 0,  2,  4,  6,  8, 10, 12, 14, 16])"
      ]
     },
     "execution_count": 11,
     "metadata": {},
     "output_type": "execute_result"
    }
   ],
   "source": [
    "b[0:9]"
   ]
  },
  {
   "cell_type": "code",
   "execution_count": 12,
   "metadata": {},
   "outputs": [
    {
     "data": {
      "text/plain": [
       "array([ 0,  2,  4,  0,  8, 10,  0, 14, 16,  0, 20, 22,  0, 26, 28,  0, 32,\n",
       "       34,  0, 38, 40,  0, 44, 46,  0, 50, 52,  0, 56, 58])"
      ]
     },
     "execution_count": 12,
     "metadata": {},
     "output_type": "execute_result"
    }
   ],
   "source": [
    "b[::3] = 0\n",
    "b[0:30]"
   ]
  },
  {
   "cell_type": "markdown",
   "metadata": {},
   "source": [
    "## Slices of ndarrays are \"views\" into the same object.\n",
    "This is very different than how lists behave.  Let's explore the difference."
   ]
  },
  {
   "cell_type": "code",
   "execution_count": 13,
   "metadata": {},
   "outputs": [],
   "source": [
    "a_slice = a_list[0:9]"
   ]
  },
  {
   "cell_type": "code",
   "execution_count": 14,
   "metadata": {},
   "outputs": [
    {
     "data": {
      "text/plain": [
       "[0, 512, 1024, 1536, 2048, 2560, 3072, 3584, 4096]"
      ]
     },
     "execution_count": 14,
     "metadata": {},
     "output_type": "execute_result"
    }
   ],
   "source": [
    "a_slice"
   ]
  },
  {
   "cell_type": "code",
   "execution_count": 15,
   "metadata": {},
   "outputs": [
    {
     "data": {
      "text/plain": [
       "[0, 512, 1024, 99, 2048, 2560, 3072, 3584, 4096]"
      ]
     },
     "execution_count": 15,
     "metadata": {},
     "output_type": "execute_result"
    }
   ],
   "source": [
    "a_slice[3] = 99\n",
    "a_slice"
   ]
  },
  {
   "cell_type": "markdown",
   "metadata": {},
   "source": [
    "Notice below that after we mutated the slice of the list \"a_list\", the list itself did *not* get changed.  That's because assigning the *slice* of a list to another variable creates a *copy*."
   ]
  },
  {
   "cell_type": "code",
   "execution_count": 16,
   "metadata": {},
   "outputs": [
    {
     "data": {
      "text/plain": [
       "[0, 512, 1024, 1536, 2048, 2560, 3072, 3584, 4096]"
      ]
     },
     "execution_count": 16,
     "metadata": {},
     "output_type": "execute_result"
    }
   ],
   "source": [
    "a_list[0:9]"
   ]
  },
  {
   "cell_type": "markdown",
   "metadata": {},
   "source": [
    "Now we'll try the exact same sequence of steps with an ndarray."
   ]
  },
  {
   "cell_type": "code",
   "execution_count": 17,
   "metadata": {},
   "outputs": [
    {
     "data": {
      "text/plain": [
       "array([ 0,  2,  4,  0,  8, 10,  0, 14, 16])"
      ]
     },
     "execution_count": 17,
     "metadata": {},
     "output_type": "execute_result"
    }
   ],
   "source": [
    "b[0:9]   # display the ndarray's first few values"
   ]
  },
  {
   "cell_type": "code",
   "execution_count": 18,
   "metadata": {},
   "outputs": [],
   "source": [
    "b_slice = b[0:9]   # assign an ndarray's slice to a new variable, analogous to what we did above with a list."
   ]
  },
  {
   "cell_type": "code",
   "execution_count": 19,
   "metadata": {},
   "outputs": [
    {
     "data": {
      "text/plain": [
       "array([ 0,  2,  4,  0,  8, 10,  0, 14, 16])"
      ]
     },
     "execution_count": 19,
     "metadata": {},
     "output_type": "execute_result"
    }
   ],
   "source": [
    "b_slice"
   ]
  },
  {
   "cell_type": "code",
   "execution_count": 20,
   "metadata": {},
   "outputs": [
    {
     "data": {
      "text/plain": [
       "array([ 0,  2,  4, 99,  8, 10,  0, 14, 16])"
      ]
     },
     "execution_count": 20,
     "metadata": {},
     "output_type": "execute_result"
    }
   ],
   "source": [
    "b_slice[3] = 99   # now modify an element within that slice.\n",
    "b_slice"
   ]
  },
  {
   "cell_type": "markdown",
   "metadata": {},
   "source": [
    "Last, we peek again at the original ndarray's values.  It also changed!  This is the purpose and effect of \"views\" in ndarrays.  Why would the designers want this behavior?"
   ]
  },
  {
   "cell_type": "code",
   "execution_count": 21,
   "metadata": {},
   "outputs": [
    {
     "data": {
      "text/plain": [
       "array([ 0,  2,  4, 99,  8, 10,  0, 14, 16])"
      ]
     },
     "execution_count": 21,
     "metadata": {},
     "output_type": "execute_result"
    }
   ],
   "source": [
    "b[0:9]"
   ]
  },
  {
   "cell_type": "code",
   "execution_count": 22,
   "metadata": {},
   "outputs": [
    {
     "data": {
      "text/plain": [
       "numpy.int64"
      ]
     },
     "execution_count": 22,
     "metadata": {},
     "output_type": "execute_result"
    }
   ],
   "source": [
    "type(b[0])"
   ]
  },
  {
   "cell_type": "markdown",
   "metadata": {},
   "source": [
    "## Experiments with using numpy with a character grid:"
   ]
  },
  {
   "cell_type": "code",
   "execution_count": 23,
   "metadata": {},
   "outputs": [
    {
     "name": "stdout",
     "output_type": "stream",
     "text": [
      "[['a' 'p' 'p' 'l' 'e' 'd']\n",
      " ['n' 'n' 'i' 'g' 'a' 'l']\n",
      " ['d' 'o' 'g' 's' 'b' 'e']\n",
      " ['r' 's' 'h' 'r' 'e' 'i']\n",
      " ['o' 'x' 'e' 'n' 'y' 'y']\n",
      " ['i' 'l' 'w' 'e' 'p' 'q']\n",
      " ['d' 'r' 'e' 'h' 's' 'm']]\n"
     ]
    }
   ],
   "source": [
    "lines = ['appled',\n",
    "         'nnigal',\n",
    "         'dogsbe',\n",
    "         'rshrei',\n",
    "         'oxenyy',\n",
    "         'ilwepq',\n",
    "         'drehsm']\n",
    "\n",
    "# method of \"loading\" these characters into array adapted from example at\n",
    "# https://stackoverflow.com/questions/9476797/how-do-i-create-character-arrays-in-numpy\n",
    "\n",
    "g = np.array(lines, dtype=np.unicode_)\n",
    "grid = g.view('U1').reshape((g.size, -1))\n",
    "print(grid)"
   ]
  },
  {
   "cell_type": "code",
   "execution_count": 24,
   "metadata": {},
   "outputs": [
    {
     "data": {
      "text/plain": [
       "(7, 6)"
      ]
     },
     "execution_count": 24,
     "metadata": {},
     "output_type": "execute_result"
    }
   ],
   "source": [
    "grid.shape  # Verify the dimensions of this array: (7 rows by 6 columns)"
   ]
  },
  {
   "cell_type": "markdown",
   "metadata": {},
   "source": [
    "# Extracting columns\n",
    "When we have a list of lists, or similar 2-dimensional structures, we often need to extract something from COLUMNS. In regular Python structures such as a list of lists, this requires looping to do:"
   ]
  },
  {
   "cell_type": "code",
   "execution_count": 25,
   "metadata": {},
   "outputs": [],
   "source": [
    "# This kind of syntax does NOT work for lists:\n",
    "\n",
    "# lines[][0]\n",
    "# or \n",
    "# lines[:, 0]"
   ]
  },
  {
   "cell_type": "code",
   "execution_count": 26,
   "metadata": {},
   "outputs": [
    {
     "data": {
      "text/plain": [
       "['appled', 'nnigal', 'dogsbe', 'rshrei', 'oxenyy', 'ilwepq', 'drehsm']"
      ]
     },
     "execution_count": 26,
     "metadata": {},
     "output_type": "execute_result"
    }
   ],
   "source": [
    "lines"
   ]
  },
  {
   "cell_type": "code",
   "execution_count": 27,
   "metadata": {},
   "outputs": [
    {
     "data": {
      "text/plain": [
       "'appled'"
      ]
     },
     "execution_count": 27,
     "metadata": {},
     "output_type": "execute_result"
    }
   ],
   "source": [
    "lines[0:2][0]"
   ]
  },
  {
   "cell_type": "code",
   "execution_count": 28,
   "metadata": {},
   "outputs": [
    {
     "name": "stdout",
     "output_type": "stream",
     "text": [
      "['a', 'n', 'd', 'r', 'o', 'i', 'd']\n"
     ]
    }
   ],
   "source": [
    "column_0 = []\n",
    "for line in lines:\n",
    "    column_0.append(line[0])\n",
    "print(column_0)"
   ]
  },
  {
   "cell_type": "markdown",
   "metadata": {},
   "source": [
    "## ndarray columns are better:\n",
    "With Numpy ndarrays, our slicing features work MULTI-dimensionally.  \n",
    "So we can extract a column easily (and very fast) like this:"
   ]
  },
  {
   "cell_type": "code",
   "execution_count": 29,
   "metadata": {},
   "outputs": [
    {
     "name": "stdout",
     "output_type": "stream",
     "text": [
      "['a' 'n' 'd' 'r' 'o' 'i' 'd']\n"
     ]
    }
   ],
   "source": [
    "print(grid[:, 0])  # vertical slice"
   ]
  },
  {
   "cell_type": "code",
   "execution_count": 30,
   "metadata": {},
   "outputs": [
    {
     "name": "stdout",
     "output_type": "stream",
     "text": [
      "['d' 'r' 'o' 'i' 'd']\n"
     ]
    }
   ],
   "source": [
    "print(grid[2:, 0])  "
   ]
  },
  {
   "cell_type": "code",
   "execution_count": 31,
   "metadata": {},
   "outputs": [
    {
     "data": {
      "text/plain": [
       "'a*n*d*r*o*i*d'"
      ]
     },
     "execution_count": 31,
     "metadata": {},
     "output_type": "execute_result"
    }
   ],
   "source": [
    "# Numpy arrays are iterable. \n",
    "# So we can use string join to convert array into a single string:\n",
    "'*'.join(grid[:, 0])  "
   ]
  },
  {
   "cell_type": "code",
   "execution_count": null,
   "metadata": {},
   "outputs": [],
   "source": []
  },
  {
   "cell_type": "code",
   "execution_count": 32,
   "metadata": {},
   "outputs": [
    {
     "data": {
      "text/plain": [
       "'apple'"
      ]
     },
     "execution_count": 32,
     "metadata": {},
     "output_type": "execute_result"
    }
   ],
   "source": [
    "''.join(grid[0, 0:5])  # with 2D slicing, pick 'apple' from the grid."
   ]
  },
  {
   "cell_type": "markdown",
   "metadata": {},
   "source": [
    "# Searching a 2D array"
   ]
  },
  {
   "cell_type": "code",
   "execution_count": 33,
   "metadata": {},
   "outputs": [
    {
     "name": "stdout",
     "output_type": "stream",
     "text": [
      "found an e.\n"
     ]
    }
   ],
   "source": [
    "# one way to search for a specific value in a specific row:\n",
    "if ['e'] in grid[0]:\n",
    "    print('found an e.')"
   ]
  },
  {
   "cell_type": "code",
   "execution_count": 34,
   "metadata": {},
   "outputs": [
    {
     "data": {
      "text/plain": [
       "array(['a', 'p', 'p', 'l', 'e', 'd'], dtype='<U1')"
      ]
     },
     "execution_count": 34,
     "metadata": {},
     "output_type": "execute_result"
    }
   ],
   "source": [
    "grid[0]"
   ]
  },
  {
   "cell_type": "code",
   "execution_count": 35,
   "metadata": {},
   "outputs": [
    {
     "name": "stdout",
     "output_type": "stream",
     "text": [
      "can't find the apple!\n"
     ]
    }
   ],
   "source": [
    "# This approach DOES NOT WORK to search for a sequence:\n",
    "if ['a', 'p', 'p', 'l', 'e'] in list(grid[0]):\n",
    "    print('found an apple.')\n",
    "else:\n",
    "    print(\"can't find the apple!\")"
   ]
  },
  {
   "cell_type": "code",
   "execution_count": 36,
   "metadata": {},
   "outputs": [
    {
     "name": "stdout",
     "output_type": "stream",
     "text": [
      "found an apple.\n"
     ]
    }
   ],
   "source": [
    "# So why does this similar example work in lists??\n",
    "x = [ ['a', 'p', 'p', 'l', 'e'],\n",
    "      ['p', 'o', 't','a','t','o']]\n",
    "if ['a', 'p', 'p', 'l', 'e'] in x:\n",
    "    print('found an apple.')\n"
   ]
  },
  {
   "cell_type": "markdown",
   "metadata": {},
   "source": [
    "This next approach does work to find strings within a row or column, but for large grids it would likely be slow, because we're losing most efficiency advantages of the ndarray.  Imagine if this grid contained 1000 rows and columns:"
   ]
  },
  {
   "cell_type": "code",
   "execution_count": 37,
   "metadata": {},
   "outputs": [
    {
     "name": "stdout",
     "output_type": "stream",
     "text": [
      "found the oxen in row 4\n"
     ]
    }
   ],
   "source": [
    "for row in range(grid.shape[0]):\n",
    "    if 'oxen' in ''.join(grid[row]):\n",
    "        print('found the oxen in row', row)"
   ]
  },
  {
   "cell_type": "markdown",
   "metadata": {},
   "source": [
    "A different idea is to use the filtering features of ndarray to eliminate the rows that can't contain our search target.  In English vocabulary, the \"x\" in \"oxen\" is rare, so let's try filtering for \"x\":"
   ]
  },
  {
   "cell_type": "code",
   "execution_count": 38,
   "metadata": {},
   "outputs": [
    {
     "data": {
      "text/plain": [
       "array([['a', 'p', 'p', 'l', 'e', 'd'],\n",
       "       ['n', 'n', 'i', 'g', 'a', 'l'],\n",
       "       ['d', 'o', 'g', 's', 'b', 'e'],\n",
       "       ['r', 's', 'h', 'r', 'e', 'i'],\n",
       "       ['o', 'x', 'e', 'n', 'y', 'y'],\n",
       "       ['i', 'l', 'w', 'e', 'p', 'q'],\n",
       "       ['d', 'r', 'e', 'h', 's', 'm']], dtype='<U1')"
      ]
     },
     "execution_count": 38,
     "metadata": {},
     "output_type": "execute_result"
    }
   ],
   "source": [
    "grid"
   ]
  },
  {
   "cell_type": "code",
   "execution_count": 39,
   "metadata": {},
   "outputs": [
    {
     "data": {
      "text/plain": [
       "array([[False, False, False, False, False, False],\n",
       "       [False, False, False, False, False, False],\n",
       "       [False, False, False, False, False, False],\n",
       "       [False, False, False, False, False, False],\n",
       "       [False,  True, False, False, False, False],\n",
       "       [False, False, False, False, False, False],\n",
       "       [False, False, False, False, False, False]])"
      ]
     },
     "execution_count": 39,
     "metadata": {},
     "output_type": "execute_result"
    }
   ],
   "source": [
    "grid == 'x'  # builds a matching ndarray of True/False on the condition"
   ]
  },
  {
   "cell_type": "code",
   "execution_count": 40,
   "metadata": {},
   "outputs": [
    {
     "data": {
      "text/plain": [
       "array([['', '', '', '', '', ''],\n",
       "       ['', '', '', '', '', ''],\n",
       "       ['', '', '', '', '', ''],\n",
       "       ['', '', '', '', '', ''],\n",
       "       ['', 'x', '', '', '', ''],\n",
       "       ['', '', '', '', '', ''],\n",
       "       ['', '', '', '', '', '']], dtype='<U1')"
      ]
     },
     "execution_count": 40,
     "metadata": {},
     "output_type": "execute_result"
    }
   ],
   "source": [
    "np.where(grid == 'x', grid, '') # Use the condition to extract all \"x\" values"
   ]
  },
  {
   "cell_type": "markdown",
   "metadata": {},
   "source": [
    "From the above result, we know that if \"oxen\" exists in the grid at all, it must be located through index position 4,1."
   ]
  },
  {
   "cell_type": "markdown",
   "metadata": {},
   "source": [
    "# Clever counting\n",
    "The numpy.count_nonzero() method works on True/False values! This is because like most other languages, zeros are considered False, and most other values are considered True.  "
   ]
  },
  {
   "cell_type": "code",
   "execution_count": 41,
   "metadata": {},
   "outputs": [
    {
     "data": {
      "text/plain": [
       "array([0, 1, 0, 0, 0, 0])"
      ]
     },
     "execution_count": 41,
     "metadata": {},
     "output_type": "execute_result"
    }
   ],
   "source": [
    "# See which columns have an 'x' value:\n",
    "np.count_nonzero(grid == 'x', axis=0)"
   ]
  },
  {
   "cell_type": "code",
   "execution_count": 42,
   "metadata": {},
   "outputs": [
    {
     "data": {
      "text/plain": [
       "array([0, 0, 0, 0, 1, 0, 0])"
      ]
     },
     "execution_count": 42,
     "metadata": {},
     "output_type": "execute_result"
    }
   ],
   "source": [
    "# See which rows have an 'x' value:\n",
    "np.count_nonzero(grid == 'x', axis=1)"
   ]
  },
  {
   "cell_type": "code",
   "execution_count": 43,
   "metadata": {},
   "outputs": [
    {
     "name": "stdout",
     "output_type": "stream",
     "text": [
      "[['' 'p' '' '' '' '']\n",
      " ['' 'n' '' '' '' '']\n",
      " ['' 'o' '' '' '' '']\n",
      " ['' 's' '' '' '' '']\n",
      " ['' 'x' '' '' '' '']\n",
      " ['' 'l' '' '' '' '']\n",
      " ['' 'r' '' '' '' '']]\n",
      "\n",
      "[['' '' '' '' '' '']\n",
      " ['' '' '' '' '' '']\n",
      " ['' '' '' '' '' '']\n",
      " ['' '' '' '' '' '']\n",
      " ['o' 'x' 'e' 'n' 'y' 'y']\n",
      " ['' '' '' '' '' '']\n",
      " ['' '' '' '' '' '']]\n"
     ]
    }
   ],
   "source": [
    "columns = np.count_nonzero(grid == 'x', axis=0)\n",
    "rows    = np.count_nonzero(grid == 'x', axis=1)\n",
    "\n",
    "possible_columns = np.where(columns, grid, '')\n",
    "print(possible_columns)\n",
    "print()\n",
    "possible_rows = np.transpose(np.where(rows, np.transpose(grid), ''))\n",
    "print(possible_rows)"
   ]
  },
  {
   "cell_type": "markdown",
   "metadata": {},
   "source": [
    "# Other searching approaches.\n",
    "We could take a candidate word (like \"oxen\") and make sure that all its letters are in the grid somewhere.  If not, there's no point searching for it!\n",
    "\n",
    "But if our grid contains all the letters in our language, this will be a waste of time to compute for each candidate word."
   ]
  },
  {
   "cell_type": "code",
   "execution_count": 44,
   "metadata": {},
   "outputs": [
    {
     "data": {
      "text/plain": [
       "array(['a', 'b', 'd', 'e', 'g', 'h', 'i', 'l', 'm', 'n', 'o', 'p', 'q',\n",
       "       'r', 's', 'w', 'x', 'y'], dtype='<U1')"
      ]
     },
     "execution_count": 44,
     "metadata": {},
     "output_type": "execute_result"
    }
   ],
   "source": [
    "letters = np.unique(grid)  # get the unique members of the grid.\n",
    "letters"
   ]
  },
  {
   "cell_type": "code",
   "execution_count": 45,
   "metadata": {},
   "outputs": [
    {
     "data": {
      "text/plain": [
       "True"
      ]
     },
     "execution_count": 45,
     "metadata": {},
     "output_type": "execute_result"
    }
   ],
   "source": [
    "np.in1d(['o','x','e','n'], letters).all()  # Are ALL the specified letters in the puzzle somewhere?"
   ]
  },
  {
   "cell_type": "markdown",
   "metadata": {},
   "source": [
    "# What about searching diagonally? "
   ]
  },
  {
   "cell_type": "code",
   "execution_count": 46,
   "metadata": {},
   "outputs": [
    {
     "name": "stdout",
     "output_type": "stream",
     "text": [
      "[['a' 'p' 'p' 'l' 'e' 'd']\n",
      " ['n' 'n' 'i' 'g' 'a' 'l']\n",
      " ['d' 'o' 'g' 's' 'b' 'e']\n",
      " ['r' 's' 'h' 'r' 'e' 'i']\n",
      " ['o' 'x' 'e' 'n' 'y' 'y']\n",
      " ['i' 'l' 'w' 'e' 'p' 'q']\n",
      " ['d' 'r' 'e' 'h' 's' 'm']] \n",
      "\n",
      "['a' 'n' 'g' 'r' 'y' 'q']\n"
     ]
    }
   ],
   "source": [
    "print(grid, '\\n')\n",
    "print(np.diagonal(grid))"
   ]
  },
  {
   "cell_type": "code",
   "execution_count": 47,
   "metadata": {},
   "outputs": [
    {
     "name": "stdout",
     "output_type": "stream",
     "text": [
      "['p' 'i' 's' 'e' 'y']\n"
     ]
    }
   ],
   "source": [
    "print(np.diagonal(grid, 1))"
   ]
  },
  {
   "cell_type": "code",
   "execution_count": 48,
   "metadata": {},
   "outputs": [
    {
     "name": "stdout",
     "output_type": "stream",
     "text": [
      "['n' 'o' 'h' 'n' 'p' 'm']\n"
     ]
    }
   ],
   "source": [
    "print(np.diagonal(grid, -1))"
   ]
  },
  {
   "cell_type": "markdown",
   "metadata": {},
   "source": [
    "### So, using that technique, how do we get the other diagonals? (going from upper-right to lower-left)"
   ]
  },
  {
   "cell_type": "code",
   "execution_count": 49,
   "metadata": {},
   "outputs": [
    {
     "name": "stdout",
     "output_type": "stream",
     "text": [
      "[['d' 'e' 'l' 'p' 'p' 'a']\n",
      " ['l' 'a' 'g' 'i' 'n' 'n']\n",
      " ['e' 'b' 's' 'g' 'o' 'd']\n",
      " ['i' 'e' 'r' 'h' 's' 'r']\n",
      " ['y' 'y' 'n' 'e' 'x' 'o']\n",
      " ['q' 'p' 'e' 'w' 'l' 'i']\n",
      " ['m' 's' 'h' 'e' 'r' 'd']]\n"
     ]
    }
   ],
   "source": [
    "flipped = np.fliplr(grid)  # We create a \"flipped\" copy of the array.\n",
    "print(flipped)"
   ]
  },
  {
   "cell_type": "code",
   "execution_count": 50,
   "metadata": {},
   "outputs": [
    {
     "name": "stdout",
     "output_type": "stream",
     "text": [
      "['d' 'a' 's' 'h' 'x' 'i']\n"
     ]
    }
   ],
   "source": [
    "print(np.diagonal(flipped))"
   ]
  },
  {
   "cell_type": "code",
   "execution_count": 51,
   "metadata": {},
   "outputs": [
    {
     "name": "stdout",
     "output_type": "stream",
     "text": [
      "744 ns ± 15.1 ns per loop (mean ± std. dev. of 7 runs, 1000000 loops each)\n"
     ]
    }
   ],
   "source": [
    "%timeit flipped = np.fliplr(grid)  # We create a \"flipped\" copy of the array.\n"
   ]
  },
  {
   "cell_type": "code",
   "execution_count": null,
   "metadata": {},
   "outputs": [],
   "source": []
  }
 ],
 "metadata": {
  "kernelspec": {
   "display_name": "Python 3",
   "language": "python",
   "name": "python3"
  },
  "language_info": {
   "codemirror_mode": {
    "name": "ipython",
    "version": 3
   },
   "file_extension": ".py",
   "mimetype": "text/x-python",
   "name": "python",
   "nbconvert_exporter": "python",
   "pygments_lexer": "ipython3",
   "version": "3.6.6"
  }
 },
 "nbformat": 4,
 "nbformat_minor": 2
}
